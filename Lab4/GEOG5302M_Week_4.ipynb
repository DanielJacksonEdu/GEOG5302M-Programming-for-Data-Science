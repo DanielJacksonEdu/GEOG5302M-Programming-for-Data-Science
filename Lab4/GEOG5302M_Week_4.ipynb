{
  "cells": [
    {
      "cell_type": "markdown",
      "metadata": {
        "id": "view-in-github",
        "colab_type": "text"
      },
      "source": [
        "<a href=\"https://colab.research.google.com/github/DanielJacksonEdu/GEOG5302M-Programming-for-Data-Science/blob/main/Lab4/GEOG5302M_Week_4.ipynb\" target=\"_parent\"><img src=\"https://colab.research.google.com/assets/colab-badge.svg\" alt=\"Open In Colab\"/></a>"
      ]
    },
    {
      "cell_type": "code",
      "source": [
        "#@title Before we start (run me!)\n",
        "from IPython.display import display, HTML\n",
        "html_code = \"\"\"\n",
        "<div style='text-align: center;'>\n",
        "    <img src='https://upload.wikimedia.org/wikipedia/commons/thumb/d/dc/The_SpaceX_Dragon_cargo_craft_approaches_the_space_station_%281%29.jpg/640px-The_SpaceX_Dragon_cargo_craft_approaches_the_space_station_%281%29.jpg' width='600'><br>\n",
        "    <em>Data can be collected in lots of different ways, including from satellites. <br>\n",
        "    Source: <a href='https://upload.wikimedia.org/wikipedia/commons/thumb/d/dc/The_SpaceX_Dragon_cargo_craft_approaches_the_space_station_%281%29.jpg/640px-The_SpaceX_Dragon_cargo_craft_approaches_the_space_station_%281%29.jpg'</a>NASA, 2010. Public Domain.</em>\n",
        "\"\"\"\n",
        "display(HTML(html_code))\n",
        "\n",
        "print(\"You've just run a hidden code block - how they work is not part of this practical; but you will occationally come across these, e.g. when we are setting up some data in the background for your practical.\")\n"
      ],
      "metadata": {
        "colab": {
          "base_uri": "https://localhost:8080/",
          "height": 494
        },
        "cellView": "form",
        "id": "6mpDIHwodcjo",
        "outputId": "4c2518c9-f51c-4196-9dc8-82405a8b1ec0"
      },
      "id": "6mpDIHwodcjo",
      "execution_count": 1,
      "outputs": [
        {
          "output_type": "display_data",
          "data": {
            "text/plain": [
              "<IPython.core.display.HTML object>"
            ],
            "text/html": [
              "\n",
              "<div style='text-align: center;'>\n",
              "    <img src='https://upload.wikimedia.org/wikipedia/commons/thumb/d/dc/The_SpaceX_Dragon_cargo_craft_approaches_the_space_station_%281%29.jpg/640px-The_SpaceX_Dragon_cargo_craft_approaches_the_space_station_%281%29.jpg' width='600'><br>\n",
              "    <em>Data can be collected in lots of different ways, including from satellites. <br>\n",
              "    Source: <a href='https://upload.wikimedia.org/wikipedia/commons/thumb/d/dc/The_SpaceX_Dragon_cargo_craft_approaches_the_space_station_%281%29.jpg/640px-The_SpaceX_Dragon_cargo_craft_approaches_the_space_station_%281%29.jpg'</a>NASA, 2010. Public Domain.</em>\n"
            ]
          },
          "metadata": {}
        },
        {
          "output_type": "stream",
          "name": "stdout",
          "text": [
            "You've just run a hidden code block - how they work is not part of this practical; but you will occationally come across these, e.g. when we are setting up some data in the background for your practical.\n"
          ]
        }
      ]
    },
    {
      "cell_type": "markdown",
      "source": [
        "Welcome to your 4th week practical for GEOG5302M. Over the past few weeks, we've been introduced to data types, wrangling, and statistical analysis. In this session you'll continue building your skills, introducing regression analysis into the mix, focusing on CO$_{2}$ data related to climate change. We'll explore historical CO$_{2}$ concentration datasets from National Oceanic and Atmospheric Administration's (NOAA) Mauna Loa Observatory which tracks atmospheric CO$_{2}$ over time and the NOAA Laboratory for Satellite Altimetry (LSA) Sea Level Anamoly data, which tracks the difference between the baseline/average sea level and actual sea level."
      ],
      "metadata": {
        "id": "X7mPd9G6bJ2q"
      },
      "id": "X7mPd9G6bJ2q"
    },
    {
      "cell_type": "markdown",
      "source": [
        "## Practical contents\n",
        "\n",
        "1. [Part 1: CO$_{2}$ and the Sea - regression scenario exercise](#part_1)\n",
        "2. [Homework mini exercises](#homework)\n",
        "2. [Part 2: Stretch exercises - expanding your regression toolkit](#part_2)\n",
        "4. [References](#references)"
      ],
      "metadata": {
        "id": "7nnTJT0FY5hQ"
      },
      "id": "7nnTJT0FY5hQ"
    },
    {
      "cell_type": "markdown",
      "id": "29f0e19c",
      "metadata": {
        "id": "29f0e19c"
      },
      "source": [
        "## <a name=\"part_1\"></a>Part 1: CO$_{2}$ and the Sea - regression scenario exercise\n",
        "\n",
        " As you work through this notebook, think about how the code could be used for other environments or tasks... the data science MSc's are designed to make you an independent data scientist, with the investigative and critical skills that give you confidence in your abilities to problem. It is very different in this regard to undergraduate level study, where you are more guided. We find this autonomy over your own learning makes this training more fun for you!\n",
        "\n",
        "Lets getting rolling!\n",
        "\n"
      ]
    },
    {
      "cell_type": "markdown",
      "source": [
        "## Data\n",
        "\n",
        "The NOAA Mauna Loa Monthly CO$_{2}$ Data is a critical dataset for understanding atmospheric carbon dioxide levels and their implications for climate change. This dataset has been extensively analysed* in various studies, providing insights into the dynamics of CO$_{2}$ concentrations and their relationship with environmental factors. You can expore more [here](https://gml.noaa.gov/ccgg/trends/data.html) if interested in where the data comes from.\n",
        "\n",
        "The NOAA LSA Sea Level Anomaly (SLA) data is a important dataset that measures sea level changes over time. This data is collected from satellite altimeters, which record the height of the sea surface relative to a reference point, providing critical information on both global and regional sea level variations. The data we are using today is part of a larger [Global Mean Sea Level collection](https://www.star.nesdis.noaa.gov/socd/lsa/SeaLevelRise/LSA_SLR_timeseries.php) of data.\n",
        "\n",
        "The beauty of coding your analyses is the greater efficiencies it brings. Today **you** will download real-world **CO$_{2}$ data** and **Sea Level Anamoly** data  collected by NOAA, and build your own regression models to look at whether there is a relationship between atmospheric CO$_{2}$ and sea level.<br>\n",
        "\n",
        "*E.g. Solomon et al. (2009) used it to addresses the long-term impacts of carbon dioxide emissions on climate change, arguing that certain changes in the climate system may be irreversible, underscoring the urgency of addressing CO$_{2}$ emissions.\n"
      ],
      "metadata": {
        "id": "7NJlf7Q9RofL"
      },
      "id": "7NJlf7Q9RofL"
    },
    {
      "cell_type": "code",
      "execution_count": 2,
      "id": "8f091c41",
      "metadata": {
        "id": "8f091c41"
      },
      "outputs": [],
      "source": [
        "import pandas as pd  # Data manipulation\n",
        "import numpy as np   # Numerical operations\n",
        "import matplotlib.pyplot as plt  # Plotting\n",
        "import seaborn as sns  # Advanced visualization\n",
        "import statsmodels.api as sm  # Statistical modeling\n",
        "from scipy.stats import pearsonr  # Statistical analysis\n",
        "\n",
        "pd.options.mode.chained_assignment = None  # Suppress chained assignment warnings\n"
      ]
    },
    {
      "cell_type": "markdown",
      "id": "60805190",
      "metadata": {
        "id": "60805190"
      },
      "source": [
        "While working through this lab, you'll need to make sure your packages are up to date, so that everything runs smoothly. If you get an error saying, for example 'there is no command in seaborn called displot', you can run the code below (remember to remove the `#`!) to update the affected package to the latest version. You'll then need to restart the kernel so the update is ready to go. You can update the package name to the one that you need."
      ]
    },
    {
      "cell_type": "code",
      "execution_count": null,
      "id": "e5388af0",
      "metadata": {
        "id": "e5388af0"
      },
      "outputs": [],
      "source": [
        "#pip install --upgrade seaborn"
      ]
    },
    {
      "cell_type": "markdown",
      "id": "ab5b5ec8",
      "metadata": {
        "id": "ab5b5ec8"
      },
      "source": [
        "Now load in the data. The `co2_data` data is the `co2-mm-mlo.csv` file. Have you noticed how you haven't loaded in the data yourself today?\n",
        "\n",
        "Lets look at where the data is being pulled from: `https://gml.noaa.gov/webdata/ccgg/trends/co2/co2_mm_mlo.csv` is the full URL, with the csv file at the end. If your interested in looking in a little more depth, head to the [data page](https://gml.noaa.gov/ccgg/trends/data.html) this is sourced from.\n",
        "\n",
        "If you were look at the CSV file you'd find lots of meta data at the top, we're interested in the data itself, so lets skip the meta data at the start."
      ]
    },
    {
      "cell_type": "code",
      "execution_count": 3,
      "id": "a6fb082f",
      "metadata": {
        "id": "a6fb082f"
      },
      "outputs": [],
      "source": [
        "co2_url = 'https://gml.noaa.gov/webdata/ccgg/trends/co2/co2_mm_mlo.csv' # If the site breaks, you'll also find the data on Minerva!\n",
        "co2_data = pd.read_csv(co2_url, skiprows=40)  # Skip the first 40 rows of metadata to read the data"
      ]
    },
    {
      "cell_type": "markdown",
      "id": "119b33cd",
      "metadata": {
        "id": "119b33cd"
      },
      "source": [
        "As before, use the `head()` function to inspect the data"
      ]
    },
    {
      "cell_type": "code",
      "execution_count": 4,
      "id": "7e45fb75",
      "metadata": {
        "id": "7e45fb75",
        "colab": {
          "base_uri": "https://localhost:8080/",
          "height": 206
        },
        "outputId": "237db0e5-7ea2-4931-f4eb-16f48398cc45"
      },
      "outputs": [
        {
          "output_type": "execute_result",
          "data": {
            "text/plain": [
              "   year  month  decimal date  average  deseasonalized  ndays  sdev   unc\n",
              "0  1958      3     1958.2027   315.71          314.44     -1 -9.99 -0.99\n",
              "1  1958      4     1958.2877   317.45          315.16     -1 -9.99 -0.99\n",
              "2  1958      5     1958.3699   317.51          314.69     -1 -9.99 -0.99\n",
              "3  1958      6     1958.4548   317.27          315.15     -1 -9.99 -0.99\n",
              "4  1958      7     1958.5370   315.87          315.20     -1 -9.99 -0.99"
            ],
            "text/html": [
              "\n",
              "  <div id=\"df-667ecb3a-0c70-4a12-8120-a3933c76d4ce\" class=\"colab-df-container\">\n",
              "    <div>\n",
              "<style scoped>\n",
              "    .dataframe tbody tr th:only-of-type {\n",
              "        vertical-align: middle;\n",
              "    }\n",
              "\n",
              "    .dataframe tbody tr th {\n",
              "        vertical-align: top;\n",
              "    }\n",
              "\n",
              "    .dataframe thead th {\n",
              "        text-align: right;\n",
              "    }\n",
              "</style>\n",
              "<table border=\"1\" class=\"dataframe\">\n",
              "  <thead>\n",
              "    <tr style=\"text-align: right;\">\n",
              "      <th></th>\n",
              "      <th>year</th>\n",
              "      <th>month</th>\n",
              "      <th>decimal date</th>\n",
              "      <th>average</th>\n",
              "      <th>deseasonalized</th>\n",
              "      <th>ndays</th>\n",
              "      <th>sdev</th>\n",
              "      <th>unc</th>\n",
              "    </tr>\n",
              "  </thead>\n",
              "  <tbody>\n",
              "    <tr>\n",
              "      <th>0</th>\n",
              "      <td>1958</td>\n",
              "      <td>3</td>\n",
              "      <td>1958.2027</td>\n",
              "      <td>315.71</td>\n",
              "      <td>314.44</td>\n",
              "      <td>-1</td>\n",
              "      <td>-9.99</td>\n",
              "      <td>-0.99</td>\n",
              "    </tr>\n",
              "    <tr>\n",
              "      <th>1</th>\n",
              "      <td>1958</td>\n",
              "      <td>4</td>\n",
              "      <td>1958.2877</td>\n",
              "      <td>317.45</td>\n",
              "      <td>315.16</td>\n",
              "      <td>-1</td>\n",
              "      <td>-9.99</td>\n",
              "      <td>-0.99</td>\n",
              "    </tr>\n",
              "    <tr>\n",
              "      <th>2</th>\n",
              "      <td>1958</td>\n",
              "      <td>5</td>\n",
              "      <td>1958.3699</td>\n",
              "      <td>317.51</td>\n",
              "      <td>314.69</td>\n",
              "      <td>-1</td>\n",
              "      <td>-9.99</td>\n",
              "      <td>-0.99</td>\n",
              "    </tr>\n",
              "    <tr>\n",
              "      <th>3</th>\n",
              "      <td>1958</td>\n",
              "      <td>6</td>\n",
              "      <td>1958.4548</td>\n",
              "      <td>317.27</td>\n",
              "      <td>315.15</td>\n",
              "      <td>-1</td>\n",
              "      <td>-9.99</td>\n",
              "      <td>-0.99</td>\n",
              "    </tr>\n",
              "    <tr>\n",
              "      <th>4</th>\n",
              "      <td>1958</td>\n",
              "      <td>7</td>\n",
              "      <td>1958.5370</td>\n",
              "      <td>315.87</td>\n",
              "      <td>315.20</td>\n",
              "      <td>-1</td>\n",
              "      <td>-9.99</td>\n",
              "      <td>-0.99</td>\n",
              "    </tr>\n",
              "  </tbody>\n",
              "</table>\n",
              "</div>\n",
              "    <div class=\"colab-df-buttons\">\n",
              "\n",
              "  <div class=\"colab-df-container\">\n",
              "    <button class=\"colab-df-convert\" onclick=\"convertToInteractive('df-667ecb3a-0c70-4a12-8120-a3933c76d4ce')\"\n",
              "            title=\"Convert this dataframe to an interactive table.\"\n",
              "            style=\"display:none;\">\n",
              "\n",
              "  <svg xmlns=\"http://www.w3.org/2000/svg\" height=\"24px\" viewBox=\"0 -960 960 960\">\n",
              "    <path d=\"M120-120v-720h720v720H120Zm60-500h600v-160H180v160Zm220 220h160v-160H400v160Zm0 220h160v-160H400v160ZM180-400h160v-160H180v160Zm440 0h160v-160H620v160ZM180-180h160v-160H180v160Zm440 0h160v-160H620v160Z\"/>\n",
              "  </svg>\n",
              "    </button>\n",
              "\n",
              "  <style>\n",
              "    .colab-df-container {\n",
              "      display:flex;\n",
              "      gap: 12px;\n",
              "    }\n",
              "\n",
              "    .colab-df-convert {\n",
              "      background-color: #E8F0FE;\n",
              "      border: none;\n",
              "      border-radius: 50%;\n",
              "      cursor: pointer;\n",
              "      display: none;\n",
              "      fill: #1967D2;\n",
              "      height: 32px;\n",
              "      padding: 0 0 0 0;\n",
              "      width: 32px;\n",
              "    }\n",
              "\n",
              "    .colab-df-convert:hover {\n",
              "      background-color: #E2EBFA;\n",
              "      box-shadow: 0px 1px 2px rgba(60, 64, 67, 0.3), 0px 1px 3px 1px rgba(60, 64, 67, 0.15);\n",
              "      fill: #174EA6;\n",
              "    }\n",
              "\n",
              "    .colab-df-buttons div {\n",
              "      margin-bottom: 4px;\n",
              "    }\n",
              "\n",
              "    [theme=dark] .colab-df-convert {\n",
              "      background-color: #3B4455;\n",
              "      fill: #D2E3FC;\n",
              "    }\n",
              "\n",
              "    [theme=dark] .colab-df-convert:hover {\n",
              "      background-color: #434B5C;\n",
              "      box-shadow: 0px 1px 3px 1px rgba(0, 0, 0, 0.15);\n",
              "      filter: drop-shadow(0px 1px 2px rgba(0, 0, 0, 0.3));\n",
              "      fill: #FFFFFF;\n",
              "    }\n",
              "  </style>\n",
              "\n",
              "    <script>\n",
              "      const buttonEl =\n",
              "        document.querySelector('#df-667ecb3a-0c70-4a12-8120-a3933c76d4ce button.colab-df-convert');\n",
              "      buttonEl.style.display =\n",
              "        google.colab.kernel.accessAllowed ? 'block' : 'none';\n",
              "\n",
              "      async function convertToInteractive(key) {\n",
              "        const element = document.querySelector('#df-667ecb3a-0c70-4a12-8120-a3933c76d4ce');\n",
              "        const dataTable =\n",
              "          await google.colab.kernel.invokeFunction('convertToInteractive',\n",
              "                                                    [key], {});\n",
              "        if (!dataTable) return;\n",
              "\n",
              "        const docLinkHtml = 'Like what you see? Visit the ' +\n",
              "          '<a target=\"_blank\" href=https://colab.research.google.com/notebooks/data_table.ipynb>data table notebook</a>'\n",
              "          + ' to learn more about interactive tables.';\n",
              "        element.innerHTML = '';\n",
              "        dataTable['output_type'] = 'display_data';\n",
              "        await google.colab.output.renderOutput(dataTable, element);\n",
              "        const docLink = document.createElement('div');\n",
              "        docLink.innerHTML = docLinkHtml;\n",
              "        element.appendChild(docLink);\n",
              "      }\n",
              "    </script>\n",
              "  </div>\n",
              "\n",
              "\n",
              "<div id=\"df-24ba1604-d28f-4b94-9bcf-b8a14273da43\">\n",
              "  <button class=\"colab-df-quickchart\" onclick=\"quickchart('df-24ba1604-d28f-4b94-9bcf-b8a14273da43')\"\n",
              "            title=\"Suggest charts\"\n",
              "            style=\"display:none;\">\n",
              "\n",
              "<svg xmlns=\"http://www.w3.org/2000/svg\" height=\"24px\"viewBox=\"0 0 24 24\"\n",
              "     width=\"24px\">\n",
              "    <g>\n",
              "        <path d=\"M19 3H5c-1.1 0-2 .9-2 2v14c0 1.1.9 2 2 2h14c1.1 0 2-.9 2-2V5c0-1.1-.9-2-2-2zM9 17H7v-7h2v7zm4 0h-2V7h2v10zm4 0h-2v-4h2v4z\"/>\n",
              "    </g>\n",
              "</svg>\n",
              "  </button>\n",
              "\n",
              "<style>\n",
              "  .colab-df-quickchart {\n",
              "      --bg-color: #E8F0FE;\n",
              "      --fill-color: #1967D2;\n",
              "      --hover-bg-color: #E2EBFA;\n",
              "      --hover-fill-color: #174EA6;\n",
              "      --disabled-fill-color: #AAA;\n",
              "      --disabled-bg-color: #DDD;\n",
              "  }\n",
              "\n",
              "  [theme=dark] .colab-df-quickchart {\n",
              "      --bg-color: #3B4455;\n",
              "      --fill-color: #D2E3FC;\n",
              "      --hover-bg-color: #434B5C;\n",
              "      --hover-fill-color: #FFFFFF;\n",
              "      --disabled-bg-color: #3B4455;\n",
              "      --disabled-fill-color: #666;\n",
              "  }\n",
              "\n",
              "  .colab-df-quickchart {\n",
              "    background-color: var(--bg-color);\n",
              "    border: none;\n",
              "    border-radius: 50%;\n",
              "    cursor: pointer;\n",
              "    display: none;\n",
              "    fill: var(--fill-color);\n",
              "    height: 32px;\n",
              "    padding: 0;\n",
              "    width: 32px;\n",
              "  }\n",
              "\n",
              "  .colab-df-quickchart:hover {\n",
              "    background-color: var(--hover-bg-color);\n",
              "    box-shadow: 0 1px 2px rgba(60, 64, 67, 0.3), 0 1px 3px 1px rgba(60, 64, 67, 0.15);\n",
              "    fill: var(--button-hover-fill-color);\n",
              "  }\n",
              "\n",
              "  .colab-df-quickchart-complete:disabled,\n",
              "  .colab-df-quickchart-complete:disabled:hover {\n",
              "    background-color: var(--disabled-bg-color);\n",
              "    fill: var(--disabled-fill-color);\n",
              "    box-shadow: none;\n",
              "  }\n",
              "\n",
              "  .colab-df-spinner {\n",
              "    border: 2px solid var(--fill-color);\n",
              "    border-color: transparent;\n",
              "    border-bottom-color: var(--fill-color);\n",
              "    animation:\n",
              "      spin 1s steps(1) infinite;\n",
              "  }\n",
              "\n",
              "  @keyframes spin {\n",
              "    0% {\n",
              "      border-color: transparent;\n",
              "      border-bottom-color: var(--fill-color);\n",
              "      border-left-color: var(--fill-color);\n",
              "    }\n",
              "    20% {\n",
              "      border-color: transparent;\n",
              "      border-left-color: var(--fill-color);\n",
              "      border-top-color: var(--fill-color);\n",
              "    }\n",
              "    30% {\n",
              "      border-color: transparent;\n",
              "      border-left-color: var(--fill-color);\n",
              "      border-top-color: var(--fill-color);\n",
              "      border-right-color: var(--fill-color);\n",
              "    }\n",
              "    40% {\n",
              "      border-color: transparent;\n",
              "      border-right-color: var(--fill-color);\n",
              "      border-top-color: var(--fill-color);\n",
              "    }\n",
              "    60% {\n",
              "      border-color: transparent;\n",
              "      border-right-color: var(--fill-color);\n",
              "    }\n",
              "    80% {\n",
              "      border-color: transparent;\n",
              "      border-right-color: var(--fill-color);\n",
              "      border-bottom-color: var(--fill-color);\n",
              "    }\n",
              "    90% {\n",
              "      border-color: transparent;\n",
              "      border-bottom-color: var(--fill-color);\n",
              "    }\n",
              "  }\n",
              "</style>\n",
              "\n",
              "  <script>\n",
              "    async function quickchart(key) {\n",
              "      const quickchartButtonEl =\n",
              "        document.querySelector('#' + key + ' button');\n",
              "      quickchartButtonEl.disabled = true;  // To prevent multiple clicks.\n",
              "      quickchartButtonEl.classList.add('colab-df-spinner');\n",
              "      try {\n",
              "        const charts = await google.colab.kernel.invokeFunction(\n",
              "            'suggestCharts', [key], {});\n",
              "      } catch (error) {\n",
              "        console.error('Error during call to suggestCharts:', error);\n",
              "      }\n",
              "      quickchartButtonEl.classList.remove('colab-df-spinner');\n",
              "      quickchartButtonEl.classList.add('colab-df-quickchart-complete');\n",
              "    }\n",
              "    (() => {\n",
              "      let quickchartButtonEl =\n",
              "        document.querySelector('#df-24ba1604-d28f-4b94-9bcf-b8a14273da43 button');\n",
              "      quickchartButtonEl.style.display =\n",
              "        google.colab.kernel.accessAllowed ? 'block' : 'none';\n",
              "    })();\n",
              "  </script>\n",
              "</div>\n",
              "\n",
              "    </div>\n",
              "  </div>\n"
            ],
            "application/vnd.google.colaboratory.intrinsic+json": {
              "type": "dataframe",
              "variable_name": "co2_data",
              "summary": "{\n  \"name\": \"co2_data\",\n  \"rows\": 799,\n  \"fields\": [\n    {\n      \"column\": \"year\",\n      \"properties\": {\n        \"dtype\": \"number\",\n        \"std\": 19,\n        \"min\": 1958,\n        \"max\": 2024,\n        \"num_unique_values\": 67,\n        \"samples\": [\n          1994,\n          1974,\n          1962\n        ],\n        \"semantic_type\": \"\",\n        \"description\": \"\"\n      }\n    },\n    {\n      \"column\": \"month\",\n      \"properties\": {\n        \"dtype\": \"number\",\n        \"std\": 3,\n        \"min\": 1,\n        \"max\": 12,\n        \"num_unique_values\": 12,\n        \"samples\": [\n          1,\n          12,\n          3\n        ],\n        \"semantic_type\": \"\",\n        \"description\": \"\"\n      }\n    },\n    {\n      \"column\": \"decimal date\",\n      \"properties\": {\n        \"dtype\": \"number\",\n        \"std\": 19.233788608855967,\n        \"min\": 1958.2027,\n        \"max\": 2024.7083,\n        \"num_unique_values\": 799,\n        \"samples\": [\n          2016.125,\n          2013.7083,\n          1963.4548\n        ],\n        \"semantic_type\": \"\",\n        \"description\": \"\"\n      }\n    },\n    {\n      \"column\": \"average\",\n      \"properties\": {\n        \"dtype\": \"number\",\n        \"std\": 31.944831076598994,\n        \"min\": 312.42,\n        \"max\": 426.91,\n        \"num_unique_values\": 775,\n        \"samples\": [\n          363.44,\n          414.15,\n          349.98\n        ],\n        \"semantic_type\": \"\",\n        \"description\": \"\"\n      }\n    },\n    {\n      \"column\": \"deseasonalized\",\n      \"properties\": {\n        \"dtype\": \"number\",\n        \"std\": 31.88126247672934,\n        \"min\": 314.44,\n        \"max\": 425.46,\n        \"num_unique_values\": 769,\n        \"samples\": [\n          403.54,\n          347.51,\n          394.12\n        ],\n        \"semantic_type\": \"\",\n        \"description\": \"\"\n      }\n    },\n    {\n      \"column\": \"ndays\",\n      \"properties\": {\n        \"dtype\": \"number\",\n        \"std\": 11,\n        \"min\": -1,\n        \"max\": 31,\n        \"num_unique_values\": 25,\n        \"samples\": [\n          23,\n          20,\n          -1\n        ],\n        \"semantic_type\": \"\",\n        \"description\": \"\"\n      }\n    },\n    {\n      \"column\": \"sdev\",\n      \"properties\": {\n        \"dtype\": \"number\",\n        \"std\": 4.522076690261319,\n        \"min\": -9.99,\n        \"max\": 1.31,\n        \"num_unique_values\": 92,\n        \"samples\": [\n          0.54,\n          0.69,\n          0.85\n        ],\n        \"semantic_type\": \"\",\n        \"description\": \"\"\n      }\n    },\n    {\n      \"column\": \"unc\",\n      \"properties\": {\n        \"dtype\": \"number\",\n        \"std\": 0.5123840664005411,\n        \"min\": -0.99,\n        \"max\": 0.58,\n        \"num_unique_values\": 46,\n        \"samples\": [\n          0.33,\n          0.07,\n          0.31\n        ],\n        \"semantic_type\": \"\",\n        \"description\": \"\"\n      }\n    }\n  ]\n}"
            }
          },
          "metadata": {},
          "execution_count": 4
        }
      ],
      "source": [
        "#have a look at the top of the data\n",
        "co2_data.head()"
      ]
    },
    {
      "cell_type": "markdown",
      "source": [
        "Lets now bring in the sea level data."
      ],
      "metadata": {
        "id": "KFgai8kWsZDh"
      },
      "id": "KFgai8kWsZDh"
    },
    {
      "cell_type": "code",
      "source": [
        "gmsl_url = 'https://www.star.nesdis.noaa.gov/socd/lsa/SeaLevelRise/slr/slr_sla_gbl_free_ref_90.csv' # This defines the URL we will be downloading data from\n",
        "sea_level_data = pd.read_csv(gmsl_url, skiprows=5)# Skip metadata rows to get to the data"
      ],
      "metadata": {
        "id": "Pf48_bRIshnH"
      },
      "id": "Pf48_bRIshnH",
      "execution_count": 5,
      "outputs": []
    },
    {
      "cell_type": "markdown",
      "source": [
        "Have a look at what the data looks like, note that we've skipped the metadata again, notice how we had a different amount this. There is no set format of metadata, you need to check each of your datasets independently."
      ],
      "metadata": {
        "id": "PM_7yH-HwFi-"
      },
      "id": "PM_7yH-HwFi-"
    },
    {
      "cell_type": "code",
      "source": [
        "#have a look at the top of the data\n",
        "sea_level_data.head()\n"
      ],
      "metadata": {
        "colab": {
          "base_uri": "https://localhost:8080/",
          "height": 206
        },
        "id": "5MD1Jxpjvwxx",
        "outputId": "1db1eeea-297c-4246-cab2-a640369278be"
      },
      "id": "5MD1Jxpjvwxx",
      "execution_count": 6,
      "outputs": [
        {
          "output_type": "execute_result",
          "data": {
            "text/plain": [
              "        year  TOPEX/Poseidon  Jason-1  Jason-2  Jason-3  Sentinel-6MF\n",
              "0  1992.9614          -19.38      NaN      NaN      NaN           NaN\n",
              "1  1992.9865          -22.64      NaN      NaN      NaN           NaN\n",
              "2  1993.0123          -24.08      NaN      NaN      NaN           NaN\n",
              "3  1993.0406          -23.99      NaN      NaN      NaN           NaN\n",
              "4  1993.0641          -24.27      NaN      NaN      NaN           NaN"
            ],
            "text/html": [
              "\n",
              "  <div id=\"df-150b8b32-c056-4ffe-8099-642e47555bf7\" class=\"colab-df-container\">\n",
              "    <div>\n",
              "<style scoped>\n",
              "    .dataframe tbody tr th:only-of-type {\n",
              "        vertical-align: middle;\n",
              "    }\n",
              "\n",
              "    .dataframe tbody tr th {\n",
              "        vertical-align: top;\n",
              "    }\n",
              "\n",
              "    .dataframe thead th {\n",
              "        text-align: right;\n",
              "    }\n",
              "</style>\n",
              "<table border=\"1\" class=\"dataframe\">\n",
              "  <thead>\n",
              "    <tr style=\"text-align: right;\">\n",
              "      <th></th>\n",
              "      <th>year</th>\n",
              "      <th>TOPEX/Poseidon</th>\n",
              "      <th>Jason-1</th>\n",
              "      <th>Jason-2</th>\n",
              "      <th>Jason-3</th>\n",
              "      <th>Sentinel-6MF</th>\n",
              "    </tr>\n",
              "  </thead>\n",
              "  <tbody>\n",
              "    <tr>\n",
              "      <th>0</th>\n",
              "      <td>1992.9614</td>\n",
              "      <td>-19.38</td>\n",
              "      <td>NaN</td>\n",
              "      <td>NaN</td>\n",
              "      <td>NaN</td>\n",
              "      <td>NaN</td>\n",
              "    </tr>\n",
              "    <tr>\n",
              "      <th>1</th>\n",
              "      <td>1992.9865</td>\n",
              "      <td>-22.64</td>\n",
              "      <td>NaN</td>\n",
              "      <td>NaN</td>\n",
              "      <td>NaN</td>\n",
              "      <td>NaN</td>\n",
              "    </tr>\n",
              "    <tr>\n",
              "      <th>2</th>\n",
              "      <td>1993.0123</td>\n",
              "      <td>-24.08</td>\n",
              "      <td>NaN</td>\n",
              "      <td>NaN</td>\n",
              "      <td>NaN</td>\n",
              "      <td>NaN</td>\n",
              "    </tr>\n",
              "    <tr>\n",
              "      <th>3</th>\n",
              "      <td>1993.0406</td>\n",
              "      <td>-23.99</td>\n",
              "      <td>NaN</td>\n",
              "      <td>NaN</td>\n",
              "      <td>NaN</td>\n",
              "      <td>NaN</td>\n",
              "    </tr>\n",
              "    <tr>\n",
              "      <th>4</th>\n",
              "      <td>1993.0641</td>\n",
              "      <td>-24.27</td>\n",
              "      <td>NaN</td>\n",
              "      <td>NaN</td>\n",
              "      <td>NaN</td>\n",
              "      <td>NaN</td>\n",
              "    </tr>\n",
              "  </tbody>\n",
              "</table>\n",
              "</div>\n",
              "    <div class=\"colab-df-buttons\">\n",
              "\n",
              "  <div class=\"colab-df-container\">\n",
              "    <button class=\"colab-df-convert\" onclick=\"convertToInteractive('df-150b8b32-c056-4ffe-8099-642e47555bf7')\"\n",
              "            title=\"Convert this dataframe to an interactive table.\"\n",
              "            style=\"display:none;\">\n",
              "\n",
              "  <svg xmlns=\"http://www.w3.org/2000/svg\" height=\"24px\" viewBox=\"0 -960 960 960\">\n",
              "    <path d=\"M120-120v-720h720v720H120Zm60-500h600v-160H180v160Zm220 220h160v-160H400v160Zm0 220h160v-160H400v160ZM180-400h160v-160H180v160Zm440 0h160v-160H620v160ZM180-180h160v-160H180v160Zm440 0h160v-160H620v160Z\"/>\n",
              "  </svg>\n",
              "    </button>\n",
              "\n",
              "  <style>\n",
              "    .colab-df-container {\n",
              "      display:flex;\n",
              "      gap: 12px;\n",
              "    }\n",
              "\n",
              "    .colab-df-convert {\n",
              "      background-color: #E8F0FE;\n",
              "      border: none;\n",
              "      border-radius: 50%;\n",
              "      cursor: pointer;\n",
              "      display: none;\n",
              "      fill: #1967D2;\n",
              "      height: 32px;\n",
              "      padding: 0 0 0 0;\n",
              "      width: 32px;\n",
              "    }\n",
              "\n",
              "    .colab-df-convert:hover {\n",
              "      background-color: #E2EBFA;\n",
              "      box-shadow: 0px 1px 2px rgba(60, 64, 67, 0.3), 0px 1px 3px 1px rgba(60, 64, 67, 0.15);\n",
              "      fill: #174EA6;\n",
              "    }\n",
              "\n",
              "    .colab-df-buttons div {\n",
              "      margin-bottom: 4px;\n",
              "    }\n",
              "\n",
              "    [theme=dark] .colab-df-convert {\n",
              "      background-color: #3B4455;\n",
              "      fill: #D2E3FC;\n",
              "    }\n",
              "\n",
              "    [theme=dark] .colab-df-convert:hover {\n",
              "      background-color: #434B5C;\n",
              "      box-shadow: 0px 1px 3px 1px rgba(0, 0, 0, 0.15);\n",
              "      filter: drop-shadow(0px 1px 2px rgba(0, 0, 0, 0.3));\n",
              "      fill: #FFFFFF;\n",
              "    }\n",
              "  </style>\n",
              "\n",
              "    <script>\n",
              "      const buttonEl =\n",
              "        document.querySelector('#df-150b8b32-c056-4ffe-8099-642e47555bf7 button.colab-df-convert');\n",
              "      buttonEl.style.display =\n",
              "        google.colab.kernel.accessAllowed ? 'block' : 'none';\n",
              "\n",
              "      async function convertToInteractive(key) {\n",
              "        const element = document.querySelector('#df-150b8b32-c056-4ffe-8099-642e47555bf7');\n",
              "        const dataTable =\n",
              "          await google.colab.kernel.invokeFunction('convertToInteractive',\n",
              "                                                    [key], {});\n",
              "        if (!dataTable) return;\n",
              "\n",
              "        const docLinkHtml = 'Like what you see? Visit the ' +\n",
              "          '<a target=\"_blank\" href=https://colab.research.google.com/notebooks/data_table.ipynb>data table notebook</a>'\n",
              "          + ' to learn more about interactive tables.';\n",
              "        element.innerHTML = '';\n",
              "        dataTable['output_type'] = 'display_data';\n",
              "        await google.colab.output.renderOutput(dataTable, element);\n",
              "        const docLink = document.createElement('div');\n",
              "        docLink.innerHTML = docLinkHtml;\n",
              "        element.appendChild(docLink);\n",
              "      }\n",
              "    </script>\n",
              "  </div>\n",
              "\n",
              "\n",
              "<div id=\"df-48a0ea00-c12c-4f15-a404-6c3831dc3a7c\">\n",
              "  <button class=\"colab-df-quickchart\" onclick=\"quickchart('df-48a0ea00-c12c-4f15-a404-6c3831dc3a7c')\"\n",
              "            title=\"Suggest charts\"\n",
              "            style=\"display:none;\">\n",
              "\n",
              "<svg xmlns=\"http://www.w3.org/2000/svg\" height=\"24px\"viewBox=\"0 0 24 24\"\n",
              "     width=\"24px\">\n",
              "    <g>\n",
              "        <path d=\"M19 3H5c-1.1 0-2 .9-2 2v14c0 1.1.9 2 2 2h14c1.1 0 2-.9 2-2V5c0-1.1-.9-2-2-2zM9 17H7v-7h2v7zm4 0h-2V7h2v10zm4 0h-2v-4h2v4z\"/>\n",
              "    </g>\n",
              "</svg>\n",
              "  </button>\n",
              "\n",
              "<style>\n",
              "  .colab-df-quickchart {\n",
              "      --bg-color: #E8F0FE;\n",
              "      --fill-color: #1967D2;\n",
              "      --hover-bg-color: #E2EBFA;\n",
              "      --hover-fill-color: #174EA6;\n",
              "      --disabled-fill-color: #AAA;\n",
              "      --disabled-bg-color: #DDD;\n",
              "  }\n",
              "\n",
              "  [theme=dark] .colab-df-quickchart {\n",
              "      --bg-color: #3B4455;\n",
              "      --fill-color: #D2E3FC;\n",
              "      --hover-bg-color: #434B5C;\n",
              "      --hover-fill-color: #FFFFFF;\n",
              "      --disabled-bg-color: #3B4455;\n",
              "      --disabled-fill-color: #666;\n",
              "  }\n",
              "\n",
              "  .colab-df-quickchart {\n",
              "    background-color: var(--bg-color);\n",
              "    border: none;\n",
              "    border-radius: 50%;\n",
              "    cursor: pointer;\n",
              "    display: none;\n",
              "    fill: var(--fill-color);\n",
              "    height: 32px;\n",
              "    padding: 0;\n",
              "    width: 32px;\n",
              "  }\n",
              "\n",
              "  .colab-df-quickchart:hover {\n",
              "    background-color: var(--hover-bg-color);\n",
              "    box-shadow: 0 1px 2px rgba(60, 64, 67, 0.3), 0 1px 3px 1px rgba(60, 64, 67, 0.15);\n",
              "    fill: var(--button-hover-fill-color);\n",
              "  }\n",
              "\n",
              "  .colab-df-quickchart-complete:disabled,\n",
              "  .colab-df-quickchart-complete:disabled:hover {\n",
              "    background-color: var(--disabled-bg-color);\n",
              "    fill: var(--disabled-fill-color);\n",
              "    box-shadow: none;\n",
              "  }\n",
              "\n",
              "  .colab-df-spinner {\n",
              "    border: 2px solid var(--fill-color);\n",
              "    border-color: transparent;\n",
              "    border-bottom-color: var(--fill-color);\n",
              "    animation:\n",
              "      spin 1s steps(1) infinite;\n",
              "  }\n",
              "\n",
              "  @keyframes spin {\n",
              "    0% {\n",
              "      border-color: transparent;\n",
              "      border-bottom-color: var(--fill-color);\n",
              "      border-left-color: var(--fill-color);\n",
              "    }\n",
              "    20% {\n",
              "      border-color: transparent;\n",
              "      border-left-color: var(--fill-color);\n",
              "      border-top-color: var(--fill-color);\n",
              "    }\n",
              "    30% {\n",
              "      border-color: transparent;\n",
              "      border-left-color: var(--fill-color);\n",
              "      border-top-color: var(--fill-color);\n",
              "      border-right-color: var(--fill-color);\n",
              "    }\n",
              "    40% {\n",
              "      border-color: transparent;\n",
              "      border-right-color: var(--fill-color);\n",
              "      border-top-color: var(--fill-color);\n",
              "    }\n",
              "    60% {\n",
              "      border-color: transparent;\n",
              "      border-right-color: var(--fill-color);\n",
              "    }\n",
              "    80% {\n",
              "      border-color: transparent;\n",
              "      border-right-color: var(--fill-color);\n",
              "      border-bottom-color: var(--fill-color);\n",
              "    }\n",
              "    90% {\n",
              "      border-color: transparent;\n",
              "      border-bottom-color: var(--fill-color);\n",
              "    }\n",
              "  }\n",
              "</style>\n",
              "\n",
              "  <script>\n",
              "    async function quickchart(key) {\n",
              "      const quickchartButtonEl =\n",
              "        document.querySelector('#' + key + ' button');\n",
              "      quickchartButtonEl.disabled = true;  // To prevent multiple clicks.\n",
              "      quickchartButtonEl.classList.add('colab-df-spinner');\n",
              "      try {\n",
              "        const charts = await google.colab.kernel.invokeFunction(\n",
              "            'suggestCharts', [key], {});\n",
              "      } catch (error) {\n",
              "        console.error('Error during call to suggestCharts:', error);\n",
              "      }\n",
              "      quickchartButtonEl.classList.remove('colab-df-spinner');\n",
              "      quickchartButtonEl.classList.add('colab-df-quickchart-complete');\n",
              "    }\n",
              "    (() => {\n",
              "      let quickchartButtonEl =\n",
              "        document.querySelector('#df-48a0ea00-c12c-4f15-a404-6c3831dc3a7c button');\n",
              "      quickchartButtonEl.style.display =\n",
              "        google.colab.kernel.accessAllowed ? 'block' : 'none';\n",
              "    })();\n",
              "  </script>\n",
              "</div>\n",
              "\n",
              "    </div>\n",
              "  </div>\n"
            ],
            "application/vnd.google.colaboratory.intrinsic+json": {
              "type": "dataframe",
              "variable_name": "sea_level_data",
              "summary": "{\n  \"name\": \"sea_level_data\",\n  \"rows\": 1533,\n  \"fields\": [\n    {\n      \"column\": \"year\",\n      \"properties\": {\n        \"dtype\": \"number\",\n        \"std\": 8.83812576874487,\n        \"min\": 1992.9614,\n        \"max\": 2024.7452,\n        \"num_unique_values\": 1533,\n        \"samples\": [\n          2011.8002,\n          1995.2126,\n          2002.2168\n        ],\n        \"semantic_type\": \"\",\n        \"description\": \"\"\n      }\n    },\n    {\n      \"column\": \"TOPEX/Poseidon\",\n      \"properties\": {\n        \"dtype\": \"number\",\n        \"std\": 10.394066769944088,\n        \"min\": -24.27,\n        \"max\": 17.9,\n        \"num_unique_values\": 415,\n        \"samples\": [\n          -13.87,\n          -5.53,\n          -3.89\n        ],\n        \"semantic_type\": \"\",\n        \"description\": \"\"\n      }\n    },\n    {\n      \"column\": \"Jason-1\",\n      \"properties\": {\n        \"dtype\": \"number\",\n        \"std\": 8.823954097539247,\n        \"min\": 0.12,\n        \"max\": 42.3,\n        \"num_unique_values\": 384,\n        \"samples\": [\n          28.23,\n          23.68,\n          35.99\n        ],\n        \"semantic_type\": \"\",\n        \"description\": \"\"\n      }\n    },\n    {\n      \"column\": \"Jason-2\",\n      \"properties\": {\n        \"dtype\": \"number\",\n        \"std\": 10.88989179019848,\n        \"min\": 19.75,\n        \"max\": 56.48,\n        \"num_unique_values\": 306,\n        \"samples\": [\n          36.79,\n          37.66,\n          25.57\n        ],\n        \"semantic_type\": \"\",\n        \"description\": \"\"\n      }\n    },\n    {\n      \"column\": \"Jason-3\",\n      \"properties\": {\n        \"dtype\": \"number\",\n        \"std\": 9.764322519191397,\n        \"min\": 48.84,\n        \"max\": 85.44,\n        \"num_unique_values\": 303,\n        \"samples\": [\n          70.9,\n          73.14,\n          62.87\n        ],\n        \"semantic_type\": \"\",\n        \"description\": \"\"\n      }\n    },\n    {\n      \"column\": \"Sentinel-6MF\",\n      \"properties\": {\n        \"dtype\": \"number\",\n        \"std\": 5.200736664161013,\n        \"min\": 64.58,\n        \"max\": 86.53,\n        \"num_unique_values\": 136,\n        \"samples\": [\n          76.41,\n          72.23,\n          69.13\n        ],\n        \"semantic_type\": \"\",\n        \"description\": \"\"\n      }\n    }\n  ]\n}"
            }
          },
          "metadata": {},
          "execution_count": 6
        }
      ]
    },
    {
      "cell_type": "markdown",
      "source": [
        "Lets simplify the dataset - we know that the different sattelites are present as they cover different dates. Lets take the mean of all the satellite values for each row to give us a single SLA column."
      ],
      "metadata": {
        "id": "RRgpYG0IIWbW"
      },
      "id": "RRgpYG0IIWbW"
    },
    {
      "cell_type": "markdown",
      "source": [
        "## Data wrangling\n",
        "\n",
        "###Calculating the mean SLA\n",
        "\n",
        "Thats suddenly a lot of unknown column names - data often can come with a rich range of data.\n",
        "\n",
        "The other columns are different satellites. These values are the difference between observed sea level and a long-term mean sea level from different satellites. We call this measurement the Sea Level Anomaly (SLA). The different satellites cover different years. It might look like there is only one value in each column by looking at the top of the data, but there are dates in the dataset where there is cross-over between satellites."
      ],
      "metadata": {
        "id": "LeL6D6TQH7oa"
      },
      "id": "LeL6D6TQH7oa"
    },
    {
      "cell_type": "code",
      "source": [
        "satellite_columns = ['TOPEX/Poseidon', 'Jason-1', 'Jason-2', 'Jason-3', 'Sentinel-6MF'] # List of satellite columns\n",
        "sea_level_data['sea_level_mean'] = sea_level_data[satellite_columns].mean(axis=1) # Calculate the mean sea level anomaly across satellites\n",
        "\n",
        "sea_level_data.drop(columns=satellite_columns, inplace=True) # Drop the original satellite columns"
      ],
      "metadata": {
        "id": "8Zyt5jcYI98s"
      },
      "id": "8Zyt5jcYI98s",
      "execution_count": 7,
      "outputs": []
    },
    {
      "cell_type": "markdown",
      "source": [
        "Lets look at the data again..."
      ],
      "metadata": {
        "id": "Htt-li5gKiZE"
      },
      "id": "Htt-li5gKiZE"
    },
    {
      "cell_type": "code",
      "source": [
        "#have a look at the top of the data sea level data again\n",
        "sea_level_data.head()\n",
        "\n"
      ],
      "metadata": {
        "colab": {
          "base_uri": "https://localhost:8080/",
          "height": 206
        },
        "id": "C41SJ6ODKjDw",
        "outputId": "01897681-d372-4adb-bb41-5e66548eac50"
      },
      "id": "C41SJ6ODKjDw",
      "execution_count": 8,
      "outputs": [
        {
          "output_type": "execute_result",
          "data": {
            "text/plain": [
              "        year  sea_level_mean\n",
              "0  1992.9614          -19.38\n",
              "1  1992.9865          -22.64\n",
              "2  1993.0123          -24.08\n",
              "3  1993.0406          -23.99\n",
              "4  1993.0641          -24.27"
            ],
            "text/html": [
              "\n",
              "  <div id=\"df-eaced8b3-4072-4e6c-b258-c0fffb7db703\" class=\"colab-df-container\">\n",
              "    <div>\n",
              "<style scoped>\n",
              "    .dataframe tbody tr th:only-of-type {\n",
              "        vertical-align: middle;\n",
              "    }\n",
              "\n",
              "    .dataframe tbody tr th {\n",
              "        vertical-align: top;\n",
              "    }\n",
              "\n",
              "    .dataframe thead th {\n",
              "        text-align: right;\n",
              "    }\n",
              "</style>\n",
              "<table border=\"1\" class=\"dataframe\">\n",
              "  <thead>\n",
              "    <tr style=\"text-align: right;\">\n",
              "      <th></th>\n",
              "      <th>year</th>\n",
              "      <th>sea_level_mean</th>\n",
              "    </tr>\n",
              "  </thead>\n",
              "  <tbody>\n",
              "    <tr>\n",
              "      <th>0</th>\n",
              "      <td>1992.9614</td>\n",
              "      <td>-19.38</td>\n",
              "    </tr>\n",
              "    <tr>\n",
              "      <th>1</th>\n",
              "      <td>1992.9865</td>\n",
              "      <td>-22.64</td>\n",
              "    </tr>\n",
              "    <tr>\n",
              "      <th>2</th>\n",
              "      <td>1993.0123</td>\n",
              "      <td>-24.08</td>\n",
              "    </tr>\n",
              "    <tr>\n",
              "      <th>3</th>\n",
              "      <td>1993.0406</td>\n",
              "      <td>-23.99</td>\n",
              "    </tr>\n",
              "    <tr>\n",
              "      <th>4</th>\n",
              "      <td>1993.0641</td>\n",
              "      <td>-24.27</td>\n",
              "    </tr>\n",
              "  </tbody>\n",
              "</table>\n",
              "</div>\n",
              "    <div class=\"colab-df-buttons\">\n",
              "\n",
              "  <div class=\"colab-df-container\">\n",
              "    <button class=\"colab-df-convert\" onclick=\"convertToInteractive('df-eaced8b3-4072-4e6c-b258-c0fffb7db703')\"\n",
              "            title=\"Convert this dataframe to an interactive table.\"\n",
              "            style=\"display:none;\">\n",
              "\n",
              "  <svg xmlns=\"http://www.w3.org/2000/svg\" height=\"24px\" viewBox=\"0 -960 960 960\">\n",
              "    <path d=\"M120-120v-720h720v720H120Zm60-500h600v-160H180v160Zm220 220h160v-160H400v160Zm0 220h160v-160H400v160ZM180-400h160v-160H180v160Zm440 0h160v-160H620v160ZM180-180h160v-160H180v160Zm440 0h160v-160H620v160Z\"/>\n",
              "  </svg>\n",
              "    </button>\n",
              "\n",
              "  <style>\n",
              "    .colab-df-container {\n",
              "      display:flex;\n",
              "      gap: 12px;\n",
              "    }\n",
              "\n",
              "    .colab-df-convert {\n",
              "      background-color: #E8F0FE;\n",
              "      border: none;\n",
              "      border-radius: 50%;\n",
              "      cursor: pointer;\n",
              "      display: none;\n",
              "      fill: #1967D2;\n",
              "      height: 32px;\n",
              "      padding: 0 0 0 0;\n",
              "      width: 32px;\n",
              "    }\n",
              "\n",
              "    .colab-df-convert:hover {\n",
              "      background-color: #E2EBFA;\n",
              "      box-shadow: 0px 1px 2px rgba(60, 64, 67, 0.3), 0px 1px 3px 1px rgba(60, 64, 67, 0.15);\n",
              "      fill: #174EA6;\n",
              "    }\n",
              "\n",
              "    .colab-df-buttons div {\n",
              "      margin-bottom: 4px;\n",
              "    }\n",
              "\n",
              "    [theme=dark] .colab-df-convert {\n",
              "      background-color: #3B4455;\n",
              "      fill: #D2E3FC;\n",
              "    }\n",
              "\n",
              "    [theme=dark] .colab-df-convert:hover {\n",
              "      background-color: #434B5C;\n",
              "      box-shadow: 0px 1px 3px 1px rgba(0, 0, 0, 0.15);\n",
              "      filter: drop-shadow(0px 1px 2px rgba(0, 0, 0, 0.3));\n",
              "      fill: #FFFFFF;\n",
              "    }\n",
              "  </style>\n",
              "\n",
              "    <script>\n",
              "      const buttonEl =\n",
              "        document.querySelector('#df-eaced8b3-4072-4e6c-b258-c0fffb7db703 button.colab-df-convert');\n",
              "      buttonEl.style.display =\n",
              "        google.colab.kernel.accessAllowed ? 'block' : 'none';\n",
              "\n",
              "      async function convertToInteractive(key) {\n",
              "        const element = document.querySelector('#df-eaced8b3-4072-4e6c-b258-c0fffb7db703');\n",
              "        const dataTable =\n",
              "          await google.colab.kernel.invokeFunction('convertToInteractive',\n",
              "                                                    [key], {});\n",
              "        if (!dataTable) return;\n",
              "\n",
              "        const docLinkHtml = 'Like what you see? Visit the ' +\n",
              "          '<a target=\"_blank\" href=https://colab.research.google.com/notebooks/data_table.ipynb>data table notebook</a>'\n",
              "          + ' to learn more about interactive tables.';\n",
              "        element.innerHTML = '';\n",
              "        dataTable['output_type'] = 'display_data';\n",
              "        await google.colab.output.renderOutput(dataTable, element);\n",
              "        const docLink = document.createElement('div');\n",
              "        docLink.innerHTML = docLinkHtml;\n",
              "        element.appendChild(docLink);\n",
              "      }\n",
              "    </script>\n",
              "  </div>\n",
              "\n",
              "\n",
              "<div id=\"df-646c8462-746c-4718-9847-c2834534cf05\">\n",
              "  <button class=\"colab-df-quickchart\" onclick=\"quickchart('df-646c8462-746c-4718-9847-c2834534cf05')\"\n",
              "            title=\"Suggest charts\"\n",
              "            style=\"display:none;\">\n",
              "\n",
              "<svg xmlns=\"http://www.w3.org/2000/svg\" height=\"24px\"viewBox=\"0 0 24 24\"\n",
              "     width=\"24px\">\n",
              "    <g>\n",
              "        <path d=\"M19 3H5c-1.1 0-2 .9-2 2v14c0 1.1.9 2 2 2h14c1.1 0 2-.9 2-2V5c0-1.1-.9-2-2-2zM9 17H7v-7h2v7zm4 0h-2V7h2v10zm4 0h-2v-4h2v4z\"/>\n",
              "    </g>\n",
              "</svg>\n",
              "  </button>\n",
              "\n",
              "<style>\n",
              "  .colab-df-quickchart {\n",
              "      --bg-color: #E8F0FE;\n",
              "      --fill-color: #1967D2;\n",
              "      --hover-bg-color: #E2EBFA;\n",
              "      --hover-fill-color: #174EA6;\n",
              "      --disabled-fill-color: #AAA;\n",
              "      --disabled-bg-color: #DDD;\n",
              "  }\n",
              "\n",
              "  [theme=dark] .colab-df-quickchart {\n",
              "      --bg-color: #3B4455;\n",
              "      --fill-color: #D2E3FC;\n",
              "      --hover-bg-color: #434B5C;\n",
              "      --hover-fill-color: #FFFFFF;\n",
              "      --disabled-bg-color: #3B4455;\n",
              "      --disabled-fill-color: #666;\n",
              "  }\n",
              "\n",
              "  .colab-df-quickchart {\n",
              "    background-color: var(--bg-color);\n",
              "    border: none;\n",
              "    border-radius: 50%;\n",
              "    cursor: pointer;\n",
              "    display: none;\n",
              "    fill: var(--fill-color);\n",
              "    height: 32px;\n",
              "    padding: 0;\n",
              "    width: 32px;\n",
              "  }\n",
              "\n",
              "  .colab-df-quickchart:hover {\n",
              "    background-color: var(--hover-bg-color);\n",
              "    box-shadow: 0 1px 2px rgba(60, 64, 67, 0.3), 0 1px 3px 1px rgba(60, 64, 67, 0.15);\n",
              "    fill: var(--button-hover-fill-color);\n",
              "  }\n",
              "\n",
              "  .colab-df-quickchart-complete:disabled,\n",
              "  .colab-df-quickchart-complete:disabled:hover {\n",
              "    background-color: var(--disabled-bg-color);\n",
              "    fill: var(--disabled-fill-color);\n",
              "    box-shadow: none;\n",
              "  }\n",
              "\n",
              "  .colab-df-spinner {\n",
              "    border: 2px solid var(--fill-color);\n",
              "    border-color: transparent;\n",
              "    border-bottom-color: var(--fill-color);\n",
              "    animation:\n",
              "      spin 1s steps(1) infinite;\n",
              "  }\n",
              "\n",
              "  @keyframes spin {\n",
              "    0% {\n",
              "      border-color: transparent;\n",
              "      border-bottom-color: var(--fill-color);\n",
              "      border-left-color: var(--fill-color);\n",
              "    }\n",
              "    20% {\n",
              "      border-color: transparent;\n",
              "      border-left-color: var(--fill-color);\n",
              "      border-top-color: var(--fill-color);\n",
              "    }\n",
              "    30% {\n",
              "      border-color: transparent;\n",
              "      border-left-color: var(--fill-color);\n",
              "      border-top-color: var(--fill-color);\n",
              "      border-right-color: var(--fill-color);\n",
              "    }\n",
              "    40% {\n",
              "      border-color: transparent;\n",
              "      border-right-color: var(--fill-color);\n",
              "      border-top-color: var(--fill-color);\n",
              "    }\n",
              "    60% {\n",
              "      border-color: transparent;\n",
              "      border-right-color: var(--fill-color);\n",
              "    }\n",
              "    80% {\n",
              "      border-color: transparent;\n",
              "      border-right-color: var(--fill-color);\n",
              "      border-bottom-color: var(--fill-color);\n",
              "    }\n",
              "    90% {\n",
              "      border-color: transparent;\n",
              "      border-bottom-color: var(--fill-color);\n",
              "    }\n",
              "  }\n",
              "</style>\n",
              "\n",
              "  <script>\n",
              "    async function quickchart(key) {\n",
              "      const quickchartButtonEl =\n",
              "        document.querySelector('#' + key + ' button');\n",
              "      quickchartButtonEl.disabled = true;  // To prevent multiple clicks.\n",
              "      quickchartButtonEl.classList.add('colab-df-spinner');\n",
              "      try {\n",
              "        const charts = await google.colab.kernel.invokeFunction(\n",
              "            'suggestCharts', [key], {});\n",
              "      } catch (error) {\n",
              "        console.error('Error during call to suggestCharts:', error);\n",
              "      }\n",
              "      quickchartButtonEl.classList.remove('colab-df-spinner');\n",
              "      quickchartButtonEl.classList.add('colab-df-quickchart-complete');\n",
              "    }\n",
              "    (() => {\n",
              "      let quickchartButtonEl =\n",
              "        document.querySelector('#df-646c8462-746c-4718-9847-c2834534cf05 button');\n",
              "      quickchartButtonEl.style.display =\n",
              "        google.colab.kernel.accessAllowed ? 'block' : 'none';\n",
              "    })();\n",
              "  </script>\n",
              "</div>\n",
              "\n",
              "    </div>\n",
              "  </div>\n"
            ],
            "application/vnd.google.colaboratory.intrinsic+json": {
              "type": "dataframe",
              "variable_name": "sea_level_data",
              "summary": "{\n  \"name\": \"sea_level_data\",\n  \"rows\": 1533,\n  \"fields\": [\n    {\n      \"column\": \"year\",\n      \"properties\": {\n        \"dtype\": \"number\",\n        \"std\": 8.83812576874487,\n        \"min\": 1992.9614,\n        \"max\": 2024.7452,\n        \"num_unique_values\": 1533,\n        \"samples\": [\n          2011.8002,\n          1995.2126,\n          2002.2168\n        ],\n        \"semantic_type\": \"\",\n        \"description\": \"\"\n      }\n    },\n    {\n      \"column\": \"sea_level_mean\",\n      \"properties\": {\n        \"dtype\": \"number\",\n        \"std\": 28.302451007242347,\n        \"min\": -24.27,\n        \"max\": 86.53,\n        \"num_unique_values\": 1418,\n        \"samples\": [\n          -12.81,\n          16.3,\n          34.25\n        ],\n        \"semantic_type\": \"\",\n        \"description\": \"\"\n      }\n    }\n  ]\n}"
            }
          },
          "metadata": {},
          "execution_count": 8
        }
      ]
    },
    {
      "cell_type": "markdown",
      "source": [
        "Thats better! Did you spot the line of code we used to remove the original satellite columns after we created the `sea_level_mean` column? Now we have only two columns."
      ],
      "metadata": {
        "id": "8r61WVTmLABh"
      },
      "id": "8r61WVTmLABh"
    },
    {
      "cell_type": "markdown",
      "source": [
        "### Joining data\n",
        "\n",
        "Before we continue, lets join the two data sets. We've got a different range of years in each dataset, but both datasets use the decimal year format for the date. The year is the date in decimal format. It gives the year and the fraction of the year that has passed. For example 1992.96140 is 1992, quite late in the year.\n",
        "\n",
        "One way we can make the dates more compareable is by combining on year and month. We can do this approximatly by rounding the decimal years to two decimal places. Let start with the CO$_{2}$ data. Note we are overwriting the column for simplicity - usually I would add another column."
      ],
      "metadata": {
        "id": "IfLGal6vI-XJ"
      },
      "id": "IfLGal6vI-XJ"
    },
    {
      "cell_type": "code",
      "source": [
        "co2_data['decimal date'] = co2_data['decimal date'].round(2)"
      ],
      "metadata": {
        "id": "XLwvMYlRJA4-"
      },
      "id": "XLwvMYlRJA4-",
      "execution_count": 9,
      "outputs": []
    },
    {
      "cell_type": "markdown",
      "source": [
        "Now the sea level data."
      ],
      "metadata": {
        "id": "A75nTcQiM4C6"
      },
      "id": "A75nTcQiM4C6"
    },
    {
      "cell_type": "code",
      "source": [
        "sea_level_data['year'] = sea_level_data['year'].round(2)"
      ],
      "metadata": {
        "id": "s1K8Hp9jM7Yb"
      },
      "id": "s1K8Hp9jM7Yb",
      "execution_count": 10,
      "outputs": []
    },
    {
      "cell_type": "markdown",
      "id": "77836098",
      "metadata": {
        "id": "77836098"
      },
      "source": [
        "We can now join the data as we have a common field. We can do this using the `merge` function in `pandas`. For this analysis we want to remove the rows in either dataset that cannot be matched (e.g. the decimal year is only present in one dataset). We call this an `inner join`.\n"
      ]
    },
    {
      "cell_type": "code",
      "source": [
        "\n",
        "merged_data = pd.merge(co2_data, sea_level_data, left_on='decimal date', right_on='year', how='inner') # Merging the datasets on the rounded decimal date/year using an inner join\n",
        "print(merged_data.head()) # Lets look at the data"
      ],
      "metadata": {
        "id": "xjHVwfG8NLhZ",
        "colab": {
          "base_uri": "https://localhost:8080/"
        },
        "outputId": "293b1813-173f-407e-b235-ca408b2b890b"
      },
      "id": "xjHVwfG8NLhZ",
      "execution_count": 12,
      "outputs": [
        {
          "output_type": "stream",
          "name": "stdout",
          "text": [
            "   year_x  month  decimal date  average  deseasonalized  ndays  sdev   unc  \\\n",
            "0    1992     12       1992.96   355.68          356.50     31  0.32  0.11   \n",
            "1    1993      1       1993.04   357.10          357.06     28  0.58  0.21   \n",
            "2    1993      2       1993.12   357.42          356.54     28  0.49  0.18   \n",
            "3    1993      4       1993.29   359.39          356.71     25  0.53  0.20   \n",
            "4    1993     11       1993.88   355.53          357.65     29  0.26  0.09   \n",
            "\n",
            "    year_y  sea_level_mean  \n",
            "0  1992.96          -19.38  \n",
            "1  1993.04          -23.99  \n",
            "2  1993.12          -22.21  \n",
            "3  1993.29          -20.23  \n",
            "4  1993.88          -21.31  \n"
          ]
        }
      ]
    },
    {
      "cell_type": "markdown",
      "source": [
        "Thats data set is starting to look a little messy. This is something you will get used to, variability in names, new variables that you calculate, and the result of joins, will all lead to datasets looking a bit more untidy and/or starting to look confusing.\n",
        "\n",
        "Lets do a bit of housekeeping to simplyfy the dataset for us to move on to regression.\n",
        "\n",
        "We'll remove the unnessary variables, and rename the ones that are not clear."
      ],
      "metadata": {
        "id": "ugxhq1uqOLU1"
      },
      "id": "ugxhq1uqOLU1"
    },
    {
      "cell_type": "code",
      "execution_count": 13,
      "id": "b8d9bd35",
      "metadata": {
        "id": "b8d9bd35",
        "colab": {
          "base_uri": "https://localhost:8080/"
        },
        "outputId": "d65c046f-389c-4a47-c52e-5dff352dc869"
      },
      "outputs": [
        {
          "output_type": "stream",
          "name": "stdout",
          "text": [
            "      year  co2_ppm  co2_deseasonalized  co2_uncertainty  sea_level_mm\n",
            "0  1992.96   355.68              356.50             0.11        -19.38\n",
            "1  1993.04   357.10              357.06             0.21        -23.99\n",
            "2  1993.12   357.42              356.54             0.18        -22.21\n",
            "3  1993.29   359.39              356.71             0.20        -20.23\n",
            "4  1993.88   355.53              357.65             0.09        -21.31\n"
          ]
        }
      ],
      "source": [
        "# Select and rename relevant columns\n",
        "sea_level_co2_data = merged_data[['decimal date', 'average', 'deseasonalized', 'unc', 'sea_level_mean']]\n",
        "sea_level_co2_data.rename(columns={\n",
        "    'decimal date': 'year',\n",
        "    'average': 'co2_ppm',\n",
        "    'deseasonalized': 'co2_deseasonalized',\n",
        "    'unc': 'co2_uncertainty',\n",
        "    'sea_level_mean': 'sea_level_mm'\n",
        "}, inplace=True)\n",
        "\n",
        "print(sea_level_co2_data.head())"
      ]
    },
    {
      "cell_type": "markdown",
      "source": [
        "### Exploring the variables\n",
        "\n",
        "Before we can start building a regression model, we start with some statistical inspection. Look back over previous weeks if you need a refresher.\n",
        "\n",
        "Remember to use the new clean dataset you just put together."
      ],
      "metadata": {
        "id": "5JvMLWMtWTe1"
      },
      "id": "5JvMLWMtWTe1"
    },
    {
      "cell_type": "code",
      "execution_count": 15,
      "id": "fb4f6ce1",
      "metadata": {
        "id": "fb4f6ce1",
        "colab": {
          "base_uri": "https://localhost:8080/"
        },
        "outputId": "398c23a5-901e-4066-eaa2-58bf9340abf2"
      },
      "outputs": [
        {
          "output_type": "stream",
          "name": "stdout",
          "text": [
            "<class 'pandas.core.frame.DataFrame'>\n",
            "RangeIndex: 183 entries, 0 to 182\n",
            "Data columns (total 5 columns):\n",
            " #   Column              Non-Null Count  Dtype  \n",
            "---  ------              --------------  -----  \n",
            " 0   year                183 non-null    float64\n",
            " 1   co2_ppm             183 non-null    float64\n",
            " 2   co2_deseasonalized  183 non-null    float64\n",
            " 3   co2_uncertainty     183 non-null    float64\n",
            " 4   sea_level_mm        183 non-null    float64\n",
            "dtypes: float64(5)\n",
            "memory usage: 7.3 KB\n"
          ]
        }
      ],
      "source": [
        "# Find out more about the data types using .info()\n",
        "sea_level_co2_data.info()"
      ]
    },
    {
      "cell_type": "code",
      "execution_count": 16,
      "id": "7aaca064",
      "metadata": {
        "id": "7aaca064",
        "colab": {
          "base_uri": "https://localhost:8080/",
          "height": 300
        },
        "outputId": "4bfd34ac-768c-4d72-8b9b-c1c57d989bd6"
      },
      "outputs": [
        {
          "output_type": "execute_result",
          "data": {
            "text/plain": [
              "              year     co2_ppm  co2_deseasonalized  co2_uncertainty  \\\n",
              "count   183.000000  183.000000          183.000000       183.000000   \n",
              "mean   2009.974699  390.292732          390.299180         0.210929   \n",
              "std       8.996954   19.764597           19.565279         0.091955   \n",
              "min    1992.960000  355.530000          356.500000         0.060000   \n",
              "25%    2002.665000  373.475000          373.880000         0.150000   \n",
              "50%    2010.460000  389.760000          390.100000         0.200000   \n",
              "75%    2017.000000  404.975000          405.770000         0.250000   \n",
              "max    2024.620000  426.910000          425.090000         0.580000   \n",
              "\n",
              "       sea_level_mm  \n",
              "count    183.000000  \n",
              "mean      30.766721  \n",
              "std       28.739858  \n",
              "min      -23.990000  \n",
              "25%        9.485000  \n",
              "50%       25.410000  \n",
              "75%       54.480000  \n",
              "max       85.610000  "
            ],
            "text/html": [
              "\n",
              "  <div id=\"df-3164515c-1393-4a7b-a64d-bd2ec8e722a2\" class=\"colab-df-container\">\n",
              "    <div>\n",
              "<style scoped>\n",
              "    .dataframe tbody tr th:only-of-type {\n",
              "        vertical-align: middle;\n",
              "    }\n",
              "\n",
              "    .dataframe tbody tr th {\n",
              "        vertical-align: top;\n",
              "    }\n",
              "\n",
              "    .dataframe thead th {\n",
              "        text-align: right;\n",
              "    }\n",
              "</style>\n",
              "<table border=\"1\" class=\"dataframe\">\n",
              "  <thead>\n",
              "    <tr style=\"text-align: right;\">\n",
              "      <th></th>\n",
              "      <th>year</th>\n",
              "      <th>co2_ppm</th>\n",
              "      <th>co2_deseasonalized</th>\n",
              "      <th>co2_uncertainty</th>\n",
              "      <th>sea_level_mm</th>\n",
              "    </tr>\n",
              "  </thead>\n",
              "  <tbody>\n",
              "    <tr>\n",
              "      <th>count</th>\n",
              "      <td>183.000000</td>\n",
              "      <td>183.000000</td>\n",
              "      <td>183.000000</td>\n",
              "      <td>183.000000</td>\n",
              "      <td>183.000000</td>\n",
              "    </tr>\n",
              "    <tr>\n",
              "      <th>mean</th>\n",
              "      <td>2009.974699</td>\n",
              "      <td>390.292732</td>\n",
              "      <td>390.299180</td>\n",
              "      <td>0.210929</td>\n",
              "      <td>30.766721</td>\n",
              "    </tr>\n",
              "    <tr>\n",
              "      <th>std</th>\n",
              "      <td>8.996954</td>\n",
              "      <td>19.764597</td>\n",
              "      <td>19.565279</td>\n",
              "      <td>0.091955</td>\n",
              "      <td>28.739858</td>\n",
              "    </tr>\n",
              "    <tr>\n",
              "      <th>min</th>\n",
              "      <td>1992.960000</td>\n",
              "      <td>355.530000</td>\n",
              "      <td>356.500000</td>\n",
              "      <td>0.060000</td>\n",
              "      <td>-23.990000</td>\n",
              "    </tr>\n",
              "    <tr>\n",
              "      <th>25%</th>\n",
              "      <td>2002.665000</td>\n",
              "      <td>373.475000</td>\n",
              "      <td>373.880000</td>\n",
              "      <td>0.150000</td>\n",
              "      <td>9.485000</td>\n",
              "    </tr>\n",
              "    <tr>\n",
              "      <th>50%</th>\n",
              "      <td>2010.460000</td>\n",
              "      <td>389.760000</td>\n",
              "      <td>390.100000</td>\n",
              "      <td>0.200000</td>\n",
              "      <td>25.410000</td>\n",
              "    </tr>\n",
              "    <tr>\n",
              "      <th>75%</th>\n",
              "      <td>2017.000000</td>\n",
              "      <td>404.975000</td>\n",
              "      <td>405.770000</td>\n",
              "      <td>0.250000</td>\n",
              "      <td>54.480000</td>\n",
              "    </tr>\n",
              "    <tr>\n",
              "      <th>max</th>\n",
              "      <td>2024.620000</td>\n",
              "      <td>426.910000</td>\n",
              "      <td>425.090000</td>\n",
              "      <td>0.580000</td>\n",
              "      <td>85.610000</td>\n",
              "    </tr>\n",
              "  </tbody>\n",
              "</table>\n",
              "</div>\n",
              "    <div class=\"colab-df-buttons\">\n",
              "\n",
              "  <div class=\"colab-df-container\">\n",
              "    <button class=\"colab-df-convert\" onclick=\"convertToInteractive('df-3164515c-1393-4a7b-a64d-bd2ec8e722a2')\"\n",
              "            title=\"Convert this dataframe to an interactive table.\"\n",
              "            style=\"display:none;\">\n",
              "\n",
              "  <svg xmlns=\"http://www.w3.org/2000/svg\" height=\"24px\" viewBox=\"0 -960 960 960\">\n",
              "    <path d=\"M120-120v-720h720v720H120Zm60-500h600v-160H180v160Zm220 220h160v-160H400v160Zm0 220h160v-160H400v160ZM180-400h160v-160H180v160Zm440 0h160v-160H620v160ZM180-180h160v-160H180v160Zm440 0h160v-160H620v160Z\"/>\n",
              "  </svg>\n",
              "    </button>\n",
              "\n",
              "  <style>\n",
              "    .colab-df-container {\n",
              "      display:flex;\n",
              "      gap: 12px;\n",
              "    }\n",
              "\n",
              "    .colab-df-convert {\n",
              "      background-color: #E8F0FE;\n",
              "      border: none;\n",
              "      border-radius: 50%;\n",
              "      cursor: pointer;\n",
              "      display: none;\n",
              "      fill: #1967D2;\n",
              "      height: 32px;\n",
              "      padding: 0 0 0 0;\n",
              "      width: 32px;\n",
              "    }\n",
              "\n",
              "    .colab-df-convert:hover {\n",
              "      background-color: #E2EBFA;\n",
              "      box-shadow: 0px 1px 2px rgba(60, 64, 67, 0.3), 0px 1px 3px 1px rgba(60, 64, 67, 0.15);\n",
              "      fill: #174EA6;\n",
              "    }\n",
              "\n",
              "    .colab-df-buttons div {\n",
              "      margin-bottom: 4px;\n",
              "    }\n",
              "\n",
              "    [theme=dark] .colab-df-convert {\n",
              "      background-color: #3B4455;\n",
              "      fill: #D2E3FC;\n",
              "    }\n",
              "\n",
              "    [theme=dark] .colab-df-convert:hover {\n",
              "      background-color: #434B5C;\n",
              "      box-shadow: 0px 1px 3px 1px rgba(0, 0, 0, 0.15);\n",
              "      filter: drop-shadow(0px 1px 2px rgba(0, 0, 0, 0.3));\n",
              "      fill: #FFFFFF;\n",
              "    }\n",
              "  </style>\n",
              "\n",
              "    <script>\n",
              "      const buttonEl =\n",
              "        document.querySelector('#df-3164515c-1393-4a7b-a64d-bd2ec8e722a2 button.colab-df-convert');\n",
              "      buttonEl.style.display =\n",
              "        google.colab.kernel.accessAllowed ? 'block' : 'none';\n",
              "\n",
              "      async function convertToInteractive(key) {\n",
              "        const element = document.querySelector('#df-3164515c-1393-4a7b-a64d-bd2ec8e722a2');\n",
              "        const dataTable =\n",
              "          await google.colab.kernel.invokeFunction('convertToInteractive',\n",
              "                                                    [key], {});\n",
              "        if (!dataTable) return;\n",
              "\n",
              "        const docLinkHtml = 'Like what you see? Visit the ' +\n",
              "          '<a target=\"_blank\" href=https://colab.research.google.com/notebooks/data_table.ipynb>data table notebook</a>'\n",
              "          + ' to learn more about interactive tables.';\n",
              "        element.innerHTML = '';\n",
              "        dataTable['output_type'] = 'display_data';\n",
              "        await google.colab.output.renderOutput(dataTable, element);\n",
              "        const docLink = document.createElement('div');\n",
              "        docLink.innerHTML = docLinkHtml;\n",
              "        element.appendChild(docLink);\n",
              "      }\n",
              "    </script>\n",
              "  </div>\n",
              "\n",
              "\n",
              "<div id=\"df-35d66920-c3c5-4a2c-8265-11ee93d7c371\">\n",
              "  <button class=\"colab-df-quickchart\" onclick=\"quickchart('df-35d66920-c3c5-4a2c-8265-11ee93d7c371')\"\n",
              "            title=\"Suggest charts\"\n",
              "            style=\"display:none;\">\n",
              "\n",
              "<svg xmlns=\"http://www.w3.org/2000/svg\" height=\"24px\"viewBox=\"0 0 24 24\"\n",
              "     width=\"24px\">\n",
              "    <g>\n",
              "        <path d=\"M19 3H5c-1.1 0-2 .9-2 2v14c0 1.1.9 2 2 2h14c1.1 0 2-.9 2-2V5c0-1.1-.9-2-2-2zM9 17H7v-7h2v7zm4 0h-2V7h2v10zm4 0h-2v-4h2v4z\"/>\n",
              "    </g>\n",
              "</svg>\n",
              "  </button>\n",
              "\n",
              "<style>\n",
              "  .colab-df-quickchart {\n",
              "      --bg-color: #E8F0FE;\n",
              "      --fill-color: #1967D2;\n",
              "      --hover-bg-color: #E2EBFA;\n",
              "      --hover-fill-color: #174EA6;\n",
              "      --disabled-fill-color: #AAA;\n",
              "      --disabled-bg-color: #DDD;\n",
              "  }\n",
              "\n",
              "  [theme=dark] .colab-df-quickchart {\n",
              "      --bg-color: #3B4455;\n",
              "      --fill-color: #D2E3FC;\n",
              "      --hover-bg-color: #434B5C;\n",
              "      --hover-fill-color: #FFFFFF;\n",
              "      --disabled-bg-color: #3B4455;\n",
              "      --disabled-fill-color: #666;\n",
              "  }\n",
              "\n",
              "  .colab-df-quickchart {\n",
              "    background-color: var(--bg-color);\n",
              "    border: none;\n",
              "    border-radius: 50%;\n",
              "    cursor: pointer;\n",
              "    display: none;\n",
              "    fill: var(--fill-color);\n",
              "    height: 32px;\n",
              "    padding: 0;\n",
              "    width: 32px;\n",
              "  }\n",
              "\n",
              "  .colab-df-quickchart:hover {\n",
              "    background-color: var(--hover-bg-color);\n",
              "    box-shadow: 0 1px 2px rgba(60, 64, 67, 0.3), 0 1px 3px 1px rgba(60, 64, 67, 0.15);\n",
              "    fill: var(--button-hover-fill-color);\n",
              "  }\n",
              "\n",
              "  .colab-df-quickchart-complete:disabled,\n",
              "  .colab-df-quickchart-complete:disabled:hover {\n",
              "    background-color: var(--disabled-bg-color);\n",
              "    fill: var(--disabled-fill-color);\n",
              "    box-shadow: none;\n",
              "  }\n",
              "\n",
              "  .colab-df-spinner {\n",
              "    border: 2px solid var(--fill-color);\n",
              "    border-color: transparent;\n",
              "    border-bottom-color: var(--fill-color);\n",
              "    animation:\n",
              "      spin 1s steps(1) infinite;\n",
              "  }\n",
              "\n",
              "  @keyframes spin {\n",
              "    0% {\n",
              "      border-color: transparent;\n",
              "      border-bottom-color: var(--fill-color);\n",
              "      border-left-color: var(--fill-color);\n",
              "    }\n",
              "    20% {\n",
              "      border-color: transparent;\n",
              "      border-left-color: var(--fill-color);\n",
              "      border-top-color: var(--fill-color);\n",
              "    }\n",
              "    30% {\n",
              "      border-color: transparent;\n",
              "      border-left-color: var(--fill-color);\n",
              "      border-top-color: var(--fill-color);\n",
              "      border-right-color: var(--fill-color);\n",
              "    }\n",
              "    40% {\n",
              "      border-color: transparent;\n",
              "      border-right-color: var(--fill-color);\n",
              "      border-top-color: var(--fill-color);\n",
              "    }\n",
              "    60% {\n",
              "      border-color: transparent;\n",
              "      border-right-color: var(--fill-color);\n",
              "    }\n",
              "    80% {\n",
              "      border-color: transparent;\n",
              "      border-right-color: var(--fill-color);\n",
              "      border-bottom-color: var(--fill-color);\n",
              "    }\n",
              "    90% {\n",
              "      border-color: transparent;\n",
              "      border-bottom-color: var(--fill-color);\n",
              "    }\n",
              "  }\n",
              "</style>\n",
              "\n",
              "  <script>\n",
              "    async function quickchart(key) {\n",
              "      const quickchartButtonEl =\n",
              "        document.querySelector('#' + key + ' button');\n",
              "      quickchartButtonEl.disabled = true;  // To prevent multiple clicks.\n",
              "      quickchartButtonEl.classList.add('colab-df-spinner');\n",
              "      try {\n",
              "        const charts = await google.colab.kernel.invokeFunction(\n",
              "            'suggestCharts', [key], {});\n",
              "      } catch (error) {\n",
              "        console.error('Error during call to suggestCharts:', error);\n",
              "      }\n",
              "      quickchartButtonEl.classList.remove('colab-df-spinner');\n",
              "      quickchartButtonEl.classList.add('colab-df-quickchart-complete');\n",
              "    }\n",
              "    (() => {\n",
              "      let quickchartButtonEl =\n",
              "        document.querySelector('#df-35d66920-c3c5-4a2c-8265-11ee93d7c371 button');\n",
              "      quickchartButtonEl.style.display =\n",
              "        google.colab.kernel.accessAllowed ? 'block' : 'none';\n",
              "    })();\n",
              "  </script>\n",
              "</div>\n",
              "\n",
              "    </div>\n",
              "  </div>\n"
            ],
            "application/vnd.google.colaboratory.intrinsic+json": {
              "type": "dataframe",
              "summary": "{\n  \"name\": \"sea_level_co2_data\",\n  \"rows\": 8,\n  \"fields\": [\n    {\n      \"column\": \"year\",\n      \"properties\": {\n        \"dtype\": \"number\",\n        \"std\": 887.1001870779967,\n        \"min\": 8.996953928502307,\n        \"max\": 2024.62,\n        \"num_unique_values\": 8,\n        \"samples\": [\n          2009.974699453552,\n          2010.46,\n          183.0\n        ],\n        \"semantic_type\": \"\",\n        \"description\": \"\"\n      }\n    },\n    {\n      \"column\": \"co2_ppm\",\n      \"properties\": {\n        \"dtype\": \"number\",\n        \"std\": 142.155396215722,\n        \"min\": 19.7645972810138,\n        \"max\": 426.91,\n        \"num_unique_values\": 8,\n        \"samples\": [\n          390.2927322404372,\n          389.76,\n          183.0\n        ],\n        \"semantic_type\": \"\",\n        \"description\": \"\"\n      }\n    },\n    {\n      \"column\": \"co2_deseasonalized\",\n      \"properties\": {\n        \"dtype\": \"number\",\n        \"std\": 142.17219141134024,\n        \"min\": 19.565279459119846,\n        \"max\": 425.09,\n        \"num_unique_values\": 8,\n        \"samples\": [\n          390.29918032786884,\n          390.1,\n          183.0\n        ],\n        \"semantic_type\": \"\",\n        \"description\": \"\"\n      }\n    },\n    {\n      \"column\": \"co2_uncertainty\",\n      \"properties\": {\n        \"dtype\": \"number\",\n        \"std\": 64.6225396804032,\n        \"min\": 0.06,\n        \"max\": 183.0,\n        \"num_unique_values\": 8,\n        \"samples\": [\n          0.21092896174863385,\n          0.2,\n          183.0\n        ],\n        \"semantic_type\": \"\",\n        \"description\": \"\"\n      }\n    },\n    {\n      \"column\": \"sea_level_mm\",\n      \"properties\": {\n        \"dtype\": \"number\",\n        \"std\": 62.69475926310487,\n        \"min\": -23.99,\n        \"max\": 183.0,\n        \"num_unique_values\": 8,\n        \"samples\": [\n          30.76672131147541,\n          25.41,\n          183.0\n        ],\n        \"semantic_type\": \"\",\n        \"description\": \"\"\n      }\n    }\n  ]\n}"
            }
          },
          "metadata": {},
          "execution_count": 16
        }
      ],
      "source": [
        "# Find out about  numeric variables using .describe()\n",
        "sea_level_co2_data.describe()"
      ]
    },
    {
      "cell_type": "markdown",
      "source": [
        "We will be looking at sea level change and CO$_{2}$ to start with. We'll come to the CO$_{2}$ deasonalised and CO2 uncertainty levels variables later."
      ],
      "metadata": {
        "id": "2v7x1tciZbi8"
      },
      "id": "2v7x1tciZbi8"
    },
    {
      "cell_type": "markdown",
      "source": [
        "For more detail we can look at distributions of our variables of interest. In our regression model, we be predicting the sea level rise, so start by creating a .displot of this variable, using an appropriate number of bins:"
      ],
      "metadata": {
        "id": "SlilbAYfa42T"
      },
      "id": "SlilbAYfa42T"
    },
    {
      "cell_type": "code",
      "source": [
        "# Create a distribution plot for CO2 concentration\n",
        "sns.displot(data=sea_level_co2_data, x='co2_ppm', bins=12)\n",
        "plt.title('Distribution of CO₂ Concentration')\n",
        "plt.xlabel('CO₂ (ppm)')\n",
        "plt.ylabel('Frequency')\n",
        "plt.show()"
      ],
      "metadata": {
        "colab": {
          "base_uri": "https://localhost:8080/",
          "height": 529
        },
        "id": "4t6nOyf6bGDi",
        "outputId": "1544221b-b231-4919-c881-8b199e2ce70b"
      },
      "id": "4t6nOyf6bGDi",
      "execution_count": 26,
      "outputs": [
        {
          "output_type": "display_data",
          "data": {
            "text/plain": [
              "<Figure size 500x500 with 1 Axes>"
            ],
            "image/png": "[encoded data removed]"
          },
          "metadata": {}
        }
      ]
    },
    {
      "cell_type": "code",
      "source": [
        "# Create a distribution plot for `sea_level_mm`\n",
        "sns.displot(data=sea_level_co2_data, x='sea_level_mm', bins=12)\n",
        "plt.title('Distribution of Sea Level Change')\n",
        "plt.xlabel('Sea Level (mm)')\n",
        "plt.ylabel('Frequency')\n",
        "plt.show()\n"
      ],
      "metadata": {
        "colab": {
          "base_uri": "https://localhost:8080/",
          "height": 529
        },
        "id": "Zd6dp-FRbVGs",
        "outputId": "2760afc1-947e-4621-b5c4-52cff49f4216"
      },
      "id": "Zd6dp-FRbVGs",
      "execution_count": 27,
      "outputs": [
        {
          "output_type": "display_data",
          "data": {
            "text/plain": [
              "<Figure size 500x500 with 1 Axes>"
            ],
            "image/png": "[encoded data removed]"
          },
          "metadata": {}
        }
      ]
    },
    {
      "cell_type": "markdown",
      "source": [
        "We can see several peaks in each of the above plots. Try changing the bin values and see what happens. Does it change any patterns you are seeing in the data?"
      ],
      "metadata": {
        "id": "hEEKTDj5buZy"
      },
      "id": "hEEKTDj5buZy"
    },
    {
      "cell_type": "code",
      "source": [
        "# What could the peak in the data be showing?\n",
        "\n",
        "\n",
        "#Seasonality, as the data data is collected across years, for multiple years.\n",
        "\n"
      ],
      "metadata": {
        "id": "D8KjMn6Db0Qs"
      },
      "id": "D8KjMn6Db0Qs",
      "execution_count": 24,
      "outputs": []
    },
    {
      "cell_type": "code",
      "source": [
        "# Create violins plot for CO2 concentration and for sea level change. Remember to include axis labels\n",
        "\n",
        "# CO2 concentration\n",
        "sns.violinplot(x='co2_ppm', data=sea_level_co2_data)\n",
        "plt.title('Violin Plot of CO2 Concentration (ppm)')\n",
        "plt.xlabel('CO2 Concentration (ppm)')\n",
        "plt.show()\n",
        "\n",
        "# Sea level change\n",
        "sns.violinplot(x='sea_level_mm', data=sea_level_co2_data)\n",
        "plt.title('Violin Plot of Sea Level Change')\n",
        "plt.xlabel('Sea Level (mm)')\n",
        "plt.show()\n",
        "\n",
        "\n"
      ],
      "metadata": {
        "colab": {
          "base_uri": "https://localhost:8080/",
          "height": 927
        },
        "id": "17LDJjtZdAE8",
        "outputId": "746827c5-433e-4efa-ddb7-f2e285e05c52"
      },
      "id": "17LDJjtZdAE8",
      "execution_count": 25,
      "outputs": [
        {
          "output_type": "display_data",
          "data": {
            "text/plain": [
              "<Figure size 640x480 with 1 Axes>"
            ],
            "image/png": "[encoded data removed]"
          },
          "metadata": {}
        },
        {
          "output_type": "display_data",
          "data": {
            "text/plain": [
              "<Figure size 640x480 with 1 Axes>"
            ],
            "image/png": "[encoded data removed]"
          },
          "metadata": {}
        }
      ]
    },
    {
      "cell_type": "markdown",
      "id": "8c357def",
      "metadata": {
        "id": "8c357def"
      },
      "source": [
        "Lets continue visualise our data to become familiar with it, let make some violin plots."
      ]
    },
    {
      "cell_type": "markdown",
      "id": "b9251046",
      "metadata": {
        "id": "b9251046"
      },
      "source": [
        "Compare the histograms to the distribution above. Do they show the same thing? How do they present the information in different ways?"
      ]
    },
    {
      "cell_type": "code",
      "execution_count": null,
      "id": "2c2f1429",
      "metadata": {
        "id": "2c2f1429"
      },
      "outputs": [],
      "source": [
        "# Comment on the distributions\n",
        "\n",
        "\n",
        "# Both histograms and violin plots visualise the distributions of the data, but in different ways.\n",
        "# Histograms show the frequency of data points within the ranges defined by the bins.\n",
        "# Violin plots show the probability density of the data, showing the range and shape of the data.\n",
        "\n"
      ]
    },
    {
      "cell_type": "markdown",
      "id": "7f74c5f4",
      "metadata": {
        "id": "7f74c5f4"
      },
      "source": [
        "In our regression model, we'll look at the relationship between the sea level anomalies (our y, or _dependent_, variable) from the CO$_{2}$ concentration (our x, or _indepdenent_, variable)."
      ]
    },
    {
      "cell_type": "markdown",
      "id": "740aac64",
      "metadata": {
        "id": "740aac64"
      },
      "source": [
        "Now we've statistically and visually investigated our variables of interest, we can look at the correlations between them. Create a scatter plot (using `sns.relplot()`)- remember to put _x_ and _y_ the right way round!"
      ]
    },
    {
      "cell_type": "code",
      "execution_count": 30,
      "id": "f9d27401",
      "metadata": {
        "scrolled": true,
        "id": "f9d27401",
        "colab": {
          "base_uri": "https://localhost:8080/",
          "height": 524
        },
        "outputId": "b9767946-6aaa-4f4d-8945-4cc242543c04"
      },
      "outputs": [
        {
          "output_type": "execute_result",
          "data": {
            "text/plain": [
              "<seaborn.axisgrid.FacetGrid at 0x7ebf3574aad0>"
            ]
          },
          "metadata": {},
          "execution_count": 30
        },
        {
          "output_type": "display_data",
          "data": {
            "text/plain": [
              "<Figure size 500x500 with 1 Axes>"
            ],
            "image/png": "[encoded data removed]"
          },
          "metadata": {}
        }
      ],
      "source": [
        "#create a scatter plot where x is Co2_ppm and y is sea_level_mm\n",
        "sns.relplot(sea_level_co2_data, x='co2_ppm', y= 'sea_level_mm')"
      ]
    },
    {
      "cell_type": "markdown",
      "id": "90468794",
      "metadata": {
        "id": "90468794"
      },
      "source": [
        "We can also calculate the Pearson's _r_ correlation coefficient:"
      ]
    },
    {
      "cell_type": "code",
      "execution_count": 31,
      "id": "0015221d",
      "metadata": {
        "id": "0015221d",
        "colab": {
          "base_uri": "https://localhost:8080/"
        },
        "outputId": "93cef7e0-c3c1-4111-cdd6-2a40a3a51866"
      },
      "outputs": [
        {
          "output_type": "stream",
          "name": "stdout",
          "text": [
            "Pearson correlation coefficient: 0.9848\n",
            "P-value: 1.2451e-139\n"
          ]
        }
      ],
      "source": [
        "# Calculate Pearson correlation coefficient and p-value\n",
        "corr_coef, p_value = pearsonr(sea_level_co2_data['co2_ppm'], sea_level_co2_data['sea_level_mm'])\n",
        "print(f'Pearson correlation coefficient: {corr_coef:.4f}') # In scientific notation\n",
        "print(f'P-value: {p_value:.4e}') # In scientific notation"
      ]
    },
    {
      "cell_type": "markdown",
      "id": "6f8fc110",
      "metadata": {
        "id": "6f8fc110"
      },
      "source": [
        "What do these values tell us about the direction, strength and significance of the association? Remember, in order for an association to be _statistically significant_, the _p_ - value needs to be less than 0.05."
      ]
    },
    {
      "cell_type": "code",
      "execution_count": null,
      "id": "8c0eacd5",
      "metadata": {
        "id": "8c0eacd5"
      },
      "outputs": [],
      "source": [
        "# Comment on the pearson r value and p-value\n",
        "# A Pearson r value of 0.98 indicates an extremely strong positive linear correlation, with the very low p-value (less that 0.05) shows it is statistically significant.\n",
        "# To put it simply, as CO2 concentration increase, sea level also rises."
      ]
    },
    {
      "cell_type": "markdown",
      "source": [
        "The Pearson test indicates a strong linear relationship, a simple linear regression model should be effective in modeling the relationship between CO2 concentration (independent variable) and sea level anomaly (dependent variable)."
      ],
      "metadata": {
        "id": "dvD4qGABiSi1"
      },
      "id": "dvD4qGABiSi1"
    },
    {
      "cell_type": "markdown",
      "source": [
        "## Ordinary least squares (OLS) regression\n",
        "\n",
        "The ordinary least squares (OLS) regression needs certain assumptions that should be met:\n",
        "\n",
        "*   Linearity. *The Pearson correlation test suggested this assumption is likley to be met and was one of the reasons we moved forwards with the regression.*\n",
        "*   Homoscedasticity.\n",
        "*   Normality of residuals.\n",
        "*   No multicollinearity. *Important for multiple predictors.*\n",
        "*   No autocorrelation. *Important for time series. You will look at temporal data more closley later in the module.*\n",
        "\n",
        "### A closer look at the assumptions\n",
        "\n",
        "### Linearity\n",
        "\n",
        "A scatter plot of residuals against predicted values can reveal non-linerity, for example if we saw a curve in the residuals.\n",
        "\n",
        "### Homoscedasticity\n",
        "\n",
        "This might be a new term for some of you. It is the variance of the residuals (the residuals are the difference between the observed and predicted values) - we need these to be constant for independent variables.\n",
        "\n",
        "We check for homoscedasticity by plotting the residuals (errors) against the predicted values.\n",
        "\n",
        "### Normality of residuals\n",
        "\n",
        "The need to be normally distributed. We check this by plotting a histogram of the residuals. Remember that a normal distribution will give you a bell shaped curve.\n",
        "\n",
        "### Multicollinearity\n",
        "\n",
        "Only an issue when you have multiple predictors.\n",
        "\n",
        "### Autocorrelation\n",
        "\n",
        "Despite the fact we are using time series data, you focus on temporal data in much more depth later in the module. But we will still check this using a test called the Durbin-Watson Test on the residuals of the regression. You would not do this with simple, single time point data.\n",
        "\n",
        "For a regression, we will need to run the regression model before we can check these assumptions."
      ],
      "metadata": {
        "id": "-xWa2XMyjKUF"
      },
      "id": "-xWa2XMyjKUF"
    },
    {
      "cell_type": "markdown",
      "source": [
        "## Lets make our OLS regression model!\n",
        "\n",
        "*Note: Even though we are primarily focusing on understanding the strength of the relationship between variables here, regression models can also be used to make predictions. In linear regression, once the model is fitted, it can predict the dependent variable based on the independent variables.*\n",
        "\n",
        "Lets seperate out our independent and dependent variable into clear x and y variables to make the model easier to follow later (the `statsmodels` library we will use in a moment requires x and y to be passed seperatly).\n",
        "\n",
        "We will also need a constant term (intercept) for the OLS model."
      ],
      "metadata": {
        "id": "ToIrzNl6nHo8"
      },
      "id": "ToIrzNl6nHo8"
    },
    {
      "cell_type": "code",
      "source": [
        "# Define independent and dependent variables\n",
        "X = sea_level_co2_data['co2_ppm']  # Independent variable (CO2 concentration)\n",
        "y = sea_level_co2_data['sea_level_mm']  # Dependent variable (Sea level anomaly)\n",
        "\n",
        "# Add a constant (intercept) to the independent variable\n",
        "X = sm.add_constant(X)"
      ],
      "metadata": {
        "id": "IUgtyqJdjJEW"
      },
      "id": "IUgtyqJdjJEW",
      "execution_count": 32,
      "outputs": []
    },
    {
      "cell_type": "markdown",
      "id": "7cc595a9",
      "metadata": {
        "id": "7cc595a9"
      },
      "source": [
        "Just as when we are plotting, we can choose between (for example) `pyplot` and `seaborn`, there are various methods for modelling in Python. <br>\n",
        "Some prefer the [scikit-learn](http://scikit-learn.org/stable/modules/generated/sklearn.linear_model.LinearRegression.html) approach, but we'll be working with the [statsmodels](https://www.statsmodels.org/stable/user-guide.html#background) approach for now, as the output is more intuitive, especially while we're getting to know the process. Feel free to read up on these, and use whichever you prefer (or another alternative, if you can find one) in your own work."
      ]
    },
    {
      "cell_type": "code",
      "execution_count": 33,
      "id": "2042095a",
      "metadata": {
        "id": "2042095a"
      },
      "outputs": [],
      "source": [
        "import statsmodels.api as sm #add statsmodels"
      ]
    },
    {
      "cell_type": "markdown",
      "source": [
        "Now, lets run the OLS regression model itself.\n"
      ],
      "metadata": {
        "id": "926p77Llp6NY"
      },
      "id": "926p77Llp6NY"
    },
    {
      "cell_type": "code",
      "source": [
        "ols_model = sm.OLS(y, X).fit() #OLS regression model."
      ],
      "metadata": {
        "id": "jmXmzSWbp-cx"
      },
      "id": "jmXmzSWbp-cx",
      "execution_count": 34,
      "outputs": []
    },
    {
      "cell_type": "markdown",
      "source": [
        "We'll need to `print` the results to display them."
      ],
      "metadata": {
        "id": "wyUNL98XqOOa"
      },
      "id": "wyUNL98XqOOa"
    },
    {
      "cell_type": "code",
      "source": [
        "# OLS regression summary\n",
        "print(ols_model.summary())"
      ],
      "metadata": {
        "colab": {
          "base_uri": "https://localhost:8080/"
        },
        "id": "Q6P9n4GkqWIX",
        "outputId": "40ad0308-7cb3-4e0c-fb90-13525df891e4"
      },
      "id": "Q6P9n4GkqWIX",
      "execution_count": 35,
      "outputs": [
        {
          "output_type": "stream",
          "name": "stdout",
          "text": [
            "                            OLS Regression Results                            \n",
            "==============================================================================\n",
            "Dep. Variable:           sea_level_mm   R-squared:                       0.970\n",
            "Model:                            OLS   Adj. R-squared:                  0.970\n",
            "Method:                 Least Squares   F-statistic:                     5831.\n",
            "Date:                Thu, 24 Oct 2024   Prob (F-statistic):          1.25e-139\n",
            "Time:                        09:52:23   Log-Likelihood:                -553.20\n",
            "No. Observations:                 183   AIC:                             1110.\n",
            "Df Residuals:                     181   BIC:                             1117.\n",
            "Df Model:                           1                                         \n",
            "Covariance Type:            nonrobust                                         \n",
            "==============================================================================\n",
            "                 coef    std err          t      P>|t|      [0.025      0.975]\n",
            "------------------------------------------------------------------------------\n",
            "const       -528.1532      7.329    -72.068      0.000    -542.614    -513.693\n",
            "co2_ppm        1.4321      0.019     76.364      0.000       1.395       1.469\n",
            "==============================================================================\n",
            "Omnibus:                        0.393   Durbin-Watson:                   0.868\n",
            "Prob(Omnibus):                  0.822   Jarque-Bera (JB):                0.146\n",
            "Skew:                          -0.008   Prob(JB):                        0.930\n",
            "Kurtosis:                       3.138   Cond. No.                     7.75e+03\n",
            "==============================================================================\n",
            "\n",
            "Notes:\n",
            "[1] Standard Errors assume that the covariance matrix of the errors is correctly specified.\n",
            "[2] The condition number is large, 7.75e+03. This might indicate that there are\n",
            "strong multicollinearity or other numerical problems.\n"
          ]
        }
      ]
    },
    {
      "cell_type": "markdown",
      "source": [
        "## Basic interpretation - OLS regression\n",
        "\n",
        "**R-squared:** 0.970\n",
        "This indicates that 97% of the variation in the dependent variable (sea level anomaly) is explained by the independent variable (CO$_{2}$ concentration).\n",
        "\n",
        "**Adjusted R-squared:** 0.970\n",
        "What it means: The adjusted R-squared accounts for the number of predictors and sample size. In this case, it is almost the same as the R-squared because we only have one predictor.\n",
        "\n",
        "**Coefficients**\n",
        "\n",
        "*    **Constant (const):** -528.15\n",
        "The intercept, which represents the estimated sea level anomaly when the CO$_{2}$ concentration is zero.\n",
        "\n",
        "*    **CO2 concentration (co2_ppm):** 1.4321\n",
        "For each 1 ppm increase in CO$_{2}$ concentration, the sea level anomaly is predicted to rise by 1.43 mm. *This is a key coefficient!*\n",
        "\n",
        "**Durbin-Watson statistic:** 0.868\n",
        "Close to 1, which suggests positive autocorrelation in the residuals! This violates the assumption of independent errors and may indicate that the model’s residuals are correlated over time (this is actually expected in time-series data). Other types of advanced regressions might perform better, such as ARIMA or generalized least squares (GLS) that can adjust for autocorrelation.\n"
      ],
      "metadata": {
        "id": "SoThGkAPqqIm"
      },
      "id": "SoThGkAPqqIm"
    },
    {
      "cell_type": "markdown",
      "source": [
        "## Have we failed?\n",
        "\n",
        "**No.** A failure would have been not checking the assumptions! We have an assumption being violated, so we would not make recommendations from this model. The Durbin-Watson statistic suggests a positive autocorrelation. This is a common issue with time-series data when working with all kinds of environmental data. So what do we do now?\n",
        "\n",
        "As a data scientist you will regularly come across results which are not perfect - you use the information to choose the best next step. Here, I would usually now use a time series model, which we are not undertaking in this practical. But this highlights a key point; you'll often start with the simplier models such as OLS as an early step, and in many instances it will not be the last model in your workflow.\n",
        "\n",
        "But its not all bad news. We have a strong model with high R-squared value, which suggests a very strong linear relationship... the majority of the variation in the sea level anomaly is explained by the CO$_{2}$ concentration. Its likley the link between the two variables is valid. This alone would be highly encouraging to moved forwards with time-seres methods.\n",
        "\n",
        "## Refinement of approach\n",
        "\n",
        "Lets try a Generalized Least Squares with Autoregressive errors (GLSAR). We won't cover details here, as this is a more specialised model, what we are interested in are the results as we can interpret them similarly to our OLS regression."
      ],
      "metadata": {
        "id": "EA72AU0Lsv2R"
      },
      "id": "EA72AU0Lsv2R"
    },
    {
      "cell_type": "code",
      "source": [
        "# Run a GLSAR model\n",
        "gls_ar_model = sm.GLSAR(y, X, rho=1)\n",
        "gls_ar_results = gls_ar_model.iterative_fit()\n",
        "\n",
        "# Display the GLSAR regression summary\n",
        "print(gls_ar_results.summary())"
      ],
      "metadata": {
        "colab": {
          "base_uri": "https://localhost:8080/"
        },
        "id": "JwFrHLLp55h7",
        "outputId": "1153580c-7fbf-43d1-ec94-562698dd31a3"
      },
      "id": "JwFrHLLp55h7",
      "execution_count": 36,
      "outputs": [
        {
          "output_type": "stream",
          "name": "stdout",
          "text": [
            "                           GLSAR Regression Results                           \n",
            "==============================================================================\n",
            "Dep. Variable:           sea_level_mm   R-squared:                       0.867\n",
            "Model:                          GLSAR   Adj. R-squared:                  0.867\n",
            "Method:                 Least Squares   F-statistic:                     1177.\n",
            "Date:                Thu, 24 Oct 2024   Prob (F-statistic):           6.93e-81\n",
            "Time:                        09:55:17   Log-Likelihood:                -513.25\n",
            "No. Observations:                 182   AIC:                             1030.\n",
            "Df Residuals:                     180   BIC:                             1037.\n",
            "Df Model:                           1                                         \n",
            "Covariance Type:            nonrobust                                         \n",
            "==============================================================================\n",
            "                 coef    std err          t      P>|t|      [0.025      0.975]\n",
            "------------------------------------------------------------------------------\n",
            "const       -492.6897     15.310    -32.181      0.000    -522.900    -462.480\n",
            "co2_ppm        1.3414      0.039     34.310      0.000       1.264       1.419\n",
            "==============================================================================\n",
            "Omnibus:                        6.491   Durbin-Watson:                   2.093\n",
            "Prob(Omnibus):                  0.039   Jarque-Bera (JB):                6.308\n",
            "Skew:                           0.451   Prob(JB):                       0.0427\n",
            "Kurtosis:                       3.129   Cond. No.                     7.57e+03\n",
            "==============================================================================\n",
            "\n",
            "Notes:\n",
            "[1] Standard Errors assume that the covariance matrix of the errors is correctly specified.\n",
            "[2] The condition number is large, 7.57e+03. This might indicate that there are\n",
            "strong multicollinearity or other numerical problems.\n"
          ]
        }
      ]
    },
    {
      "cell_type": "markdown",
      "source": [
        "## Basic interpretation - GLSAR regression\n",
        "\n",
        "**R-squared:** 0.867\n",
        "\n",
        "**Coefficients**\n",
        "\n",
        "*   **Constant (const):** -492.69\n",
        "\n",
        "*   **CO2 concentration (co2_ppm):** 1.3414\n",
        "\n",
        "**Durbin-Watson statistic:** 2.093 Close to 2, which indicates autocorrelation is not an issue anymore! The model now satisfies the assumption of independent residuals.\n",
        "\n",
        "Lets now continue checking the other assumptions. This would have been the same set of plots for the OLS regression."
      ],
      "metadata": {
        "id": "c2HpVYid5Jp5"
      },
      "id": "c2HpVYid5Jp5"
    },
    {
      "cell_type": "markdown",
      "source": [
        "## Linearity check\n",
        "\n",
        "The Pearson correlation test and OLS suggested the relational between CO2 concentration and sea level anomaly is linear. We need to check this now with our new model by plotting a scatter plot of observed vs predicted values."
      ],
      "metadata": {
        "id": "r04KsgvD9LkP"
      },
      "id": "r04KsgvD9LkP"
    },
    {
      "cell_type": "code",
      "source": [
        "# Predicted values from the GLSAR model\n",
        "y_pred_glsar = gls_ar_results.predict(X)\n",
        "\n",
        "# Scatter plot of observed vs predicted values\n",
        "plt.scatter(sea_level_co2_data['co2_ppm'], sea_level_co2_data['sea_level_mm'], label='Observed', color='blue')\n",
        "plt.plot(sea_level_co2_data['co2_ppm'], y_pred_glsar, label='Fitted line (GLSAR)', color='red')\n",
        "# add the remaining rows to complete this block"
      ],
      "metadata": {
        "colab": {
          "base_uri": "https://localhost:8080/",
          "height": 448
        },
        "id": "mSarWcM25SYe",
        "outputId": "a39386ed-6be3-4a46-f192-069cedb0db65"
      },
      "id": "mSarWcM25SYe",
      "execution_count": 37,
      "outputs": [
        {
          "output_type": "execute_result",
          "data": {
            "text/plain": [
              "[<matplotlib.lines.Line2D at 0x7ebf3789e410>]"
            ]
          },
          "metadata": {},
          "execution_count": 37
        },
        {
          "output_type": "display_data",
          "data": {
            "text/plain": [
              "<Figure size 640x480 with 1 Axes>"
            ],
            "image/png": "[encoded data removed]"
          },
          "metadata": {}
        }
      ]
    },
    {
      "cell_type": "markdown",
      "source": [
        "This is look very good. The scatter plot of observed values (blue dots) vs. predicted values (red line) shows a clear linear relationship. The points cluster closely around the fitted line, indicating that the model fits the data well. This suggests the linearity assumption is satisfied, as the relationship between CO$_{2}$ concentration and sea level anomaly is indeed linear."
      ],
      "metadata": {
        "id": "WoTwQ3yg-0Z5"
      },
      "id": "WoTwQ3yg-0Z5"
    },
    {
      "cell_type": "markdown",
      "source": [
        "## Homoscedasticity check\n",
        "\n",
        "We need to plot the residuals against the predicted values from the model.\n",
        "\n",
        "\n"
      ],
      "metadata": {
        "id": "z1_GDGhe_FGF"
      },
      "id": "z1_GDGhe_FGF"
    },
    {
      "cell_type": "code",
      "source": [
        "# Residuals from GLSAR model\n",
        "residuals_glsar = sea_level_co2_data['sea_level_mm'] - y_pred_glsar\n",
        "\n",
        "# Residuals vs predicted values\n",
        "plt.scatter(y_pred_glsar, residuals_glsar)\n",
        "plt.axhline(0, color='r', linestyle='--') # Make the line red\n",
        "plt.title('Residuals vs Predicted Values (GLSAR)')\n",
        "plt.xlabel('Predicted Values')\n",
        "plt.ylabel('Residuals')\n",
        "plt.show()"
      ],
      "metadata": {
        "colab": {
          "base_uri": "https://localhost:8080/",
          "height": 472
        },
        "id": "SQPwPlq8_1I0",
        "outputId": "63c97888-695e-4b80-bafe-3a7cb936bf19"
      },
      "id": "SQPwPlq8_1I0",
      "execution_count": 41,
      "outputs": [
        {
          "output_type": "display_data",
          "data": {
            "text/plain": [
              "<Figure size 640x480 with 1 Axes>"
            ],
            "image/png": "[encoded data removed]"
          },
          "metadata": {}
        }
      ]
    },
    {
      "cell_type": "markdown",
      "source": [
        "Excellent! This random scatter of points suggests there is no clear pattern in the residuals. Essentially, the redisuals are behaving as expected and we not seeing signs of heteroscedasticity.\n",
        "\n",
        "*Note: if we saw a funnel shape, or other trend in the residuals, then we would be seeing signs of heteroscedasticity.*"
      ],
      "metadata": {
        "id": "Dey7fXOvAEGC"
      },
      "id": "Dey7fXOvAEGC"
    },
    {
      "cell_type": "markdown",
      "source": [
        "## Normality of residuals\n",
        "\n",
        "We'll first plot a histogram of the residuals. We are looking for a normal distribution."
      ],
      "metadata": {
        "id": "L7nM8_4JAwyY"
      },
      "id": "L7nM8_4JAwyY"
    },
    {
      "cell_type": "code",
      "source": [
        "# Histogram of residuals\n",
        "sns.histplot(residuals_glsar, kde=True)\n",
        "plt.title('Histogram of Residuals (GLSAR)')\n",
        "plt.show()"
      ],
      "metadata": {
        "colab": {
          "base_uri": "https://localhost:8080/",
          "height": 452
        },
        "id": "kaJ0QfBQBULx",
        "outputId": "7a253c58-6362-4d92-f796-1ae6ee9e4ebc"
      },
      "id": "kaJ0QfBQBULx",
      "execution_count": 42,
      "outputs": [
        {
          "output_type": "display_data",
          "data": {
            "text/plain": [
              "<Figure size 640x480 with 1 Axes>"
            ],
            "image/png": "[encoded data removed]"
          },
          "metadata": {}
        }
      ]
    },
    {
      "cell_type": "markdown",
      "source": [
        "The distribution looks roughly bell-shaped, which is a good indication that the residuals are fairly normally distributed.There is a minor skew, not extreme, but it's worth noting.\n",
        "\n",
        "The second plot we need to check for normality of residuals is the Q-Q plot. A Q-Q plot compares the quantiles of your residuals to the quantiles of a normal distribution. If the residuals are normally distributed, the points should fall roughly along the 45-degree line."
      ],
      "metadata": {
        "id": "GizuwGfxCQaM"
      },
      "id": "GizuwGfxCQaM"
    },
    {
      "cell_type": "code",
      "source": [
        "# Q-Q plot\n",
        "sm.qqplot(residuals_glsar, line='45') # We can manually define the slop of the line, lets try 45 degrees\n",
        "plt.title('Q-Q Plot of Residuals (GLSAR)')\n",
        "plt.show()"
      ],
      "metadata": {
        "colab": {
          "base_uri": "https://localhost:8080/",
          "height": 472
        },
        "id": "zwZny45bC2jd",
        "outputId": "3c49d6c4-0df4-4d49-8531-a469d5c045a9"
      },
      "id": "zwZny45bC2jd",
      "execution_count": 44,
      "outputs": [
        {
          "output_type": "display_data",
          "data": {
            "text/plain": [
              "<Figure size 640x480 with 1 Axes>"
            ],
            "image/png": "[encoded data removed]"
          },
          "metadata": {}
        }
      ]
    },
    {
      "cell_type": "markdown",
      "source": [
        "Are we seeing the residuals fall along the 45-degree line?\n",
        "\n"
      ],
      "metadata": {
        "id": "Jp_oPaZtDRwL"
      },
      "id": "Jp_oPaZtDRwL"
    },
    {
      "cell_type": "code",
      "source": [
        "# Are the residuals falling along the 45-degree line?\n",
        "# The residuals deviate from the line at the extremes, suggesting slight departures from normality."
      ],
      "metadata": {
        "id": "Pi6SWY99DaE5"
      },
      "id": "Pi6SWY99DaE5",
      "execution_count": null,
      "outputs": []
    },
    {
      "cell_type": "markdown",
      "source": [
        "Following the above results, we would need to continue exploring different models or transform the data. We will leave this analysis here, but rest assured the relatioship between sea level change and CO$_{2}$ concentrations in the context of climate is well documented, e.g. Ran et al. (2003) and Ekwurzel (2017).\n",
        "\n",
        "Well done on completing this part of the practical, you've now practiced the basics of a OLS regression analysis, but also reinforced the nature of conducting analysis, be it in assignments, your final data science 60 credit project, or beyond in your careers. We must pay attention to the results of our models and refine our approaches depending on what they tell us.\n",
        "\n",
        "Through this process, we have gone through most of the assumptions and have learnt what to look for. We didnt get to multicollinearity, but don't worry, we introduce you to that in Part 2!\n",
        "\n",
        "\n",
        "\n",
        "\n"
      ],
      "metadata": {
        "id": "9tA3R0XsD5xg"
      },
      "id": "9tA3R0XsD5xg"
    },
    {
      "cell_type": "markdown",
      "source": [
        "## <a name=\"part_2\"></a>Part 2: Strech exercises - expanding your regression toolkit\n",
        "\n",
        "In part 2 we take a different approach, and practice a bit more, this time with multiple independent variables, multicollinearity, categorial variables, logistic regression, and support vector machines.\n",
        "\n",
        "**Start by running the following code block**, it sets up the data so we can progress quickly. You may expand the code and have a look if interested, though it is not part of this practical."
      ],
      "metadata": {
        "id": "hW06ZDaBMlBX"
      },
      "id": "hW06ZDaBMlBX"
    },
    {
      "cell_type": "code",
      "source": [
        "#@title Part 2 setup\n",
        "\n",
        "# Part 2 setup code (hidden for brevity)\n",
        "# This code imports necessary libraries and prepares the airquality dataset for analysis.\n",
        "\n",
        "# Import libraries\n",
        "import statsmodels.api as sm\n",
        "import pandas as pd\n",
        "import numpy as np\n",
        "from sklearn.model_selection import train_test_split\n",
        "from sklearn.preprocessing import StandardScaler\n",
        "from sklearn.svm import SVC\n",
        "from sklearn.linear_model import LogisticRegression\n",
        "from sklearn.metrics import classification_report, confusion_matrix\n",
        "\n",
        "data = sm.datasets.get_rdataset(\"airquality\", \"datasets\")\n",
        "airquality = data.data.dropna()\n",
        "\n",
        "print(\"Data setup successfully completed. Please continue.\")\n"
      ],
      "metadata": {
        "colab": {
          "base_uri": "https://localhost:8080/"
        },
        "id": "dgPz3Z1BOisU",
        "outputId": "f93a45d8-c335-4cf9-927e-39d375b2cb44"
      },
      "id": "dgPz3Z1BOisU",
      "execution_count": 46,
      "outputs": [
        {
          "output_type": "stream",
          "name": "stdout",
          "text": [
            "Data setup successfully completed. Please continue.\n"
          ]
        }
      ]
    },
    {
      "cell_type": "markdown",
      "source": [
        "## Data\n",
        "\n",
        "We'll use an adapted version of the `airquality` dataset from the `statsmodels` library. Part 2 is very much about now giving you some extra tools to use in your analyses, and takes a different format for Part 1, which was more scenario based.\n",
        "\n",
        "Lets have a quick look at the data. It has been loaded into your workspace through the above setup code already.\n",
        "\n",
        "Note: the dataset is called `airquality`!\n"
      ],
      "metadata": {
        "id": "suoXpRv6QKnx"
      },
      "id": "suoXpRv6QKnx"
    },
    {
      "cell_type": "code",
      "source": [
        "# Display the top of the data using .head\n",
        "print(airquality.head())\n",
        "\n",
        "# Display summary information using .head\n",
        "print(airquality.info())\n"
      ],
      "metadata": {
        "colab": {
          "base_uri": "https://localhost:8080/"
        },
        "id": "AfkPnbmQRXdr",
        "outputId": "eb44fa51-2374-4ae6-fd5b-8f4d88d962c1"
      },
      "id": "AfkPnbmQRXdr",
      "execution_count": 47,
      "outputs": [
        {
          "output_type": "stream",
          "name": "stdout",
          "text": [
            "   Ozone  Solar.R  Wind  Temp  Month  Day\n",
            "0   41.0    190.0   7.4    67      5    1\n",
            "1   36.0    118.0   8.0    72      5    2\n",
            "2   12.0    149.0  12.6    74      5    3\n",
            "3   18.0    313.0  11.5    62      5    4\n",
            "6   23.0    299.0   8.6    65      5    7\n",
            "<class 'pandas.core.frame.DataFrame'>\n",
            "Index: 111 entries, 0 to 152\n",
            "Data columns (total 6 columns):\n",
            " #   Column   Non-Null Count  Dtype  \n",
            "---  ------   --------------  -----  \n",
            " 0   Ozone    111 non-null    float64\n",
            " 1   Solar.R  111 non-null    float64\n",
            " 2   Wind     111 non-null    float64\n",
            " 3   Temp     111 non-null    int64  \n",
            " 4   Month    111 non-null    int64  \n",
            " 5   Day      111 non-null    int64  \n",
            "dtypes: float64(3), int64(3)\n",
            "memory usage: 6.1 KB\n",
            "None\n"
          ]
        }
      ]
    },
    {
      "cell_type": "markdown",
      "source": [
        "## Multiple OLS regression\n",
        "\n",
        "Regression can can multiple predictors. This opens the door to more complex analyses. Let’s use multiple linear regression to predict the continuous Ozone levels using Solar.R, Wind, and Temp as independent variables. This will allow you to explore how multiple atmospheric factors contribute to ozone pollution."
      ],
      "metadata": {
        "id": "nqJOje5GTMlR"
      },
      "id": "nqJOje5GTMlR"
    },
    {
      "cell_type": "code",
      "source": [
        "# Multiple regression to predict Ozone levels\n",
        "X_reg = airquality[['Solar.R', 'Wind', 'Temp']] #independent variables\n",
        "y_reg = airquality['Ozone'] #dependent variable\n",
        "\n",
        "X_reg = sm.add_constant(X_reg)  # Add a constant for intercept\n",
        "mult_reg_model = sm.OLS(y_reg, X_reg).fit()\n",
        "\n",
        "# Print model summary\n",
        "print(mult_reg_model.summary())\n"
      ],
      "metadata": {
        "colab": {
          "base_uri": "https://localhost:8080/"
        },
        "id": "ZZkclNCTTRuJ",
        "outputId": "c0dfbac2-8071-4316-c572-54d13f744346"
      },
      "id": "ZZkclNCTTRuJ",
      "execution_count": 52,
      "outputs": [
        {
          "output_type": "stream",
          "name": "stdout",
          "text": [
            "                            OLS Regression Results                            \n",
            "==============================================================================\n",
            "Dep. Variable:                  Ozone   R-squared:                       0.606\n",
            "Model:                            OLS   Adj. R-squared:                  0.595\n",
            "Method:                 Least Squares   F-statistic:                     54.83\n",
            "Date:                Thu, 24 Oct 2024   Prob (F-statistic):           1.51e-21\n",
            "Time:                        10:18:36   Log-Likelihood:                -494.36\n",
            "No. Observations:                 111   AIC:                             996.7\n",
            "Df Residuals:                     107   BIC:                             1008.\n",
            "Df Model:                           3                                         \n",
            "Covariance Type:            nonrobust                                         \n",
            "==============================================================================\n",
            "                 coef    std err          t      P>|t|      [0.025      0.975]\n",
            "------------------------------------------------------------------------------\n",
            "const        -64.3421     23.055     -2.791      0.006    -110.045     -18.639\n",
            "Solar.R        0.0598      0.023      2.580      0.011       0.014       0.106\n",
            "Wind          -3.3336      0.654     -5.094      0.000      -4.631      -2.036\n",
            "Temp           1.6521      0.254      6.516      0.000       1.149       2.155\n",
            "==============================================================================\n",
            "Omnibus:                       38.348   Durbin-Watson:                   1.935\n",
            "Prob(Omnibus):                  0.000   Jarque-Bera (JB):               84.801\n",
            "Skew:                           1.362   Prob(JB):                     3.85e-19\n",
            "Kurtosis:                       6.303   Cond. No.                     2.50e+03\n",
            "==============================================================================\n",
            "\n",
            "Notes:\n",
            "[1] Standard Errors assume that the covariance matrix of the errors is correctly specified.\n",
            "[2] The condition number is large, 2.5e+03. This might indicate that there are\n",
            "strong multicollinearity or other numerical problems.\n"
          ]
        }
      ]
    },
    {
      "cell_type": "markdown",
      "source": [
        "## Multicollinearity Using VIF\n",
        "\n",
        "As we didnt get the opportunity to check for multicollinearity in the Part 1, lets start with it. The Variance Inflation Factor (VIF) helps quantify how much multicollinearity exists between the independent variables. A high VIF (generally above 10) suggests multicollinearity.\n",
        "\n",
        "Here’s the code to calculate the VIF for each variable:"
      ],
      "metadata": {
        "id": "2Q0voUGix117"
      },
      "id": "2Q0voUGix117"
    },
    {
      "cell_type": "code",
      "source": [
        "from statsmodels.stats.outliers_influence import variance_inflation_factor\n",
        "import numpy as np\n",
        "\n",
        "# Prepare the independent variables for VIF calculation (including the constant)\n",
        "X_vif = airquality[['Solar.R', 'Wind', 'Temp']]\n",
        "X_vif = sm.add_constant(X_vif)  # Adds the constant for the intercept\n",
        "\n",
        "# Calculate VIF for each feature\n",
        "vif_data = pd.DataFrame()\n",
        "vif_data['Variable'] = X_vif.columns\n",
        "vif_data['VIF'] = [variance_inflation_factor(X_vif.values, i) for i in range(X_vif.shape[1])]\n",
        "\n",
        "print(vif_data)\n"
      ],
      "metadata": {
        "colab": {
          "base_uri": "https://localhost:8080/"
        },
        "id": "2Cc28KghyZVF",
        "outputId": "73881fde-a6f5-49bb-a648-8a968e8b6a00"
      },
      "id": "2Cc28KghyZVF",
      "execution_count": 49,
      "outputs": [
        {
          "output_type": "stream",
          "name": "stdout",
          "text": [
            "  Variable         VIF\n",
            "0    const  131.510413\n",
            "1  Solar.R    1.095253\n",
            "2     Wind    1.329070\n",
            "3     Temp    1.431367\n"
          ]
        }
      ]
    },
    {
      "cell_type": "markdown",
      "source": [
        "The Variance Inflation Factor (VIF) values you obtained for the GLSAR model suggest that multicollinearity is not a significant issue in our data.\n",
        "\n",
        "You may be surprised considering the high VIF in the output above. Why do you think its OK for this value to be above 10 (not this is an exception)."
      ],
      "metadata": {
        "id": "Yfu5IIsGyc-L"
      },
      "id": "Yfu5IIsGyc-L"
    },
    {
      "cell_type": "code",
      "source": [
        "#Why is it OK that the high VIF value is OK for this particular variable?\n",
        "#The high VIF for the constant is expected and does not affect multicollinearity between the independent variables.\n",
        "#Some data scientists would just not include the constant in the VIF check in the first place!"
      ],
      "metadata": {
        "id": "TyC-TM_Hyo-h"
      },
      "id": "TyC-TM_Hyo-h",
      "execution_count": null,
      "outputs": []
    },
    {
      "cell_type": "markdown",
      "source": [
        "# Checking further assumptions\n",
        "\n",
        "We've just checked for multicollinearity, but there are other checks that would need to be done, in the same way as we did earlier.\n",
        "\n",
        "*   Linearity\n",
        "*   Homoscedasticity.\n",
        "*   Normality of residuals.\n",
        "*   No autocorrelation.\n",
        "\n",
        "Can you write the code for a plot so we can look at Homoscedasticity?"
      ],
      "metadata": {
        "id": "WS4sT0XiytCm"
      },
      "id": "WS4sT0XiytCm"
    },
    {
      "cell_type": "code",
      "source": [
        "# Predicted values from the OLS model\n",
        "y_pred_ols = mult_reg_model.predict(X_reg)\n",
        "\n",
        "# Residuals from OLS model\n",
        "residuals_ols = y_reg - y_pred_ols\n",
        "\n",
        "# Residuals vs predicted values\n",
        "plt.scatter(y_pred_ols, residuals_ols)\n",
        "plt.axhline(0, color='r', linestyle='--') # Make the line red\n",
        "plt.title('Residuals vs Predicted Values (OLS)')\n",
        "plt.xlabel('Predicted Values')\n",
        "plt.ylabel('Residuals')\n",
        "plt.show()"
      ],
      "metadata": {
        "colab": {
          "base_uri": "https://localhost:8080/",
          "height": 472
        },
        "id": "JBRA-Ei5AJub",
        "outputId": "13be65ce-d452-4eb8-fcf4-19830ed2e644"
      },
      "id": "JBRA-Ei5AJub",
      "execution_count": 54,
      "outputs": [
        {
          "output_type": "display_data",
          "data": {
            "text/plain": [
              "<Figure size 640x480 with 1 Axes>"
            ],
            "image/png": "[encoded data removed]"
          },
          "metadata": {}
        }
      ]
    },
    {
      "cell_type": "code",
      "source": [
        "# What is your plot showing? Is there homoscedasticity?\n",
        "# Yes! We can see the classic 'funnel' shape in scatter plot.\n",
        "# The residuals plot you’ve created seems to suggest heteroscedasticity (non-constant variance of the residuals)\n",
        "# It is indicating the model might violate the assumption of homoscedasticity.\n",
        "# What would you do next?"
      ],
      "metadata": {
        "id": "Gpr9z2rQzetw"
      },
      "id": "Gpr9z2rQzetw",
      "execution_count": null,
      "outputs": []
    },
    {
      "cell_type": "markdown",
      "source": [
        "## Binary classification of ozone levels\n",
        "\n",
        "Before we move on, we need some binary data! Binary categorisation of data is incredibly useful if we are wanting to undertake an analysis that focuses on clear, decision-based outcomes. By transforming continuous variables into binary categories, such as high vs. low or yes vs. no, we simplify the data into manageable classes that can be used in classification models, such as logistic regression or support vector machines.\n",
        "\n",
        "Lets build a new binary variable based on the continuous Ozone levels in the air - based on whether they are high (above 100) or low (100 or below) using `numpy`s `.where` function. Notice in the code below how we give the threshold which defines whether it will be classed as a `1` or `0` (i.e. a binary split). Our case we use 100."
      ],
      "metadata": {
        "id": "Oe0vs-bwTWCx"
      },
      "id": "Oe0vs-bwTWCx"
    },
    {
      "cell_type": "code",
      "source": [
        "airquality['Ozone_Level'] = np.where(airquality['Ozone'] > 100, 1, 0)  # Binary variable: 1 = High Pollution, 0 = Low Pollution"
      ],
      "metadata": {
        "id": "6xMVNJjX2QOA"
      },
      "id": "6xMVNJjX2QOA",
      "execution_count": 73,
      "outputs": []
    },
    {
      "cell_type": "markdown",
      "source": [
        "# Logistic Regression\n",
        "\n",
        "Logistic regression is particularly useful when we are dealing with binary classification problems, where the outcome variable is categorical and has only two possible values. In our case, we’ve created a new binary variable, Ozone_Level, which indicates whether the Ozone concentration is above or below 100 (1 for high, 0 for low).\n",
        "\n",
        "Unlike ordinary linear regression, which predicts a continuous outcome, logistic regression estimates the probability that a certain instance belongs to one of the two categories.\n",
        "\n",
        "Let's run a logistic regression to predict whether the Ozone Level is high (1) or low (0), using the features Solar Radiation, Wind, and Temperature.\n",
        "\n",
        "This time we are going to use a different library, the popular `scikit-learn`.\n",
        "\n",
        "To start with, lets create the training and testing sets for the dependent and independent variables. If you have not come across these sets yet, heres a quick overview:\n",
        "\n",
        "**Training set:** This is the portion of the data used to \"train\" the logistic regression model. The model will learn the patterns from this data.\n",
        "\n",
        "**Testing set:** This is the portion of the data used to evaluate the model’s performance. It ensures the model can generalize well to unseen data.\n",
        "\n",
        "In the code below we set this as `0.2` which means 20% of the data is used for training the logistic regression model, and the remaining 80% is used to test (i.e. 'evaluate') the models performance. The `random_state` ensures reproducibility of the split. By setting a specific number (42 in this case), the function will always split the data in the same way every time it is run. This is important when you want consistent results across different runs of the code."
      ],
      "metadata": {
        "id": "N-t6YosW2PFw"
      },
      "id": "N-t6YosW2PFw"
    },
    {
      "cell_type": "code",
      "source": [
        "X = airquality[['Solar.R', 'Wind', 'Temp']]  # Independent variables\n",
        "y = airquality['Ozone_Level']  # Dependent variable (binary target)\n",
        "X_train, X_test, y_train, y_test = train_test_split(X, y, test_size=0.2, random_state=42)\n"
      ],
      "metadata": {
        "id": "w-iSL4TX3rJR"
      },
      "id": "w-iSL4TX3rJR",
      "execution_count": 74,
      "outputs": []
    },
    {
      "cell_type": "markdown",
      "source": [
        "Standardising the features is common with the use of SVR, but for the purposes of this practical we will skip this."
      ],
      "metadata": {
        "id": "95DYxFF8YHQT"
      },
      "id": "95DYxFF8YHQT"
    },
    {
      "cell_type": "code",
      "source": [
        "# Initialize the logistic regression model\n",
        "log_reg = LogisticRegression()\n",
        "\n",
        "# Fit the model with the training data\n",
        "log_reg.fit(X, y)\n",
        "\n",
        "# Make predictions on the test data\n",
        "y_pred_log_reg = log_reg.predict(X_test)"
      ],
      "metadata": {
        "id": "R65TNjSATXf1"
      },
      "id": "R65TNjSATXf1",
      "execution_count": 75,
      "outputs": []
    },
    {
      "cell_type": "markdown",
      "source": [
        "Great, you've ran the model! But how do we look at the results?\n",
        "\n",
        "We'll call two very useful tables; the confusion matrix and the classification report. Lets run the code first and then interpret them."
      ],
      "metadata": {
        "id": "YPSD-4F65DmV"
      },
      "id": "YPSD-4F65DmV"
    },
    {
      "cell_type": "code",
      "source": [
        "# Lets evaluate the model\n",
        "print(\"Confusion Matrix:\")\n",
        "print(confusion_matrix(y_test, y_pred_log_reg))\n",
        "print(\"\\nClassification Report:\")\n",
        "print(classification_report(y_test, y_pred_log_reg))"
      ],
      "metadata": {
        "colab": {
          "base_uri": "https://localhost:8080/"
        },
        "id": "uHfhzgjo5JmJ",
        "outputId": "948c245b-77c1-4705-adec-cc8033f29dcf"
      },
      "id": "uHfhzgjo5JmJ",
      "execution_count": 76,
      "outputs": [
        {
          "output_type": "stream",
          "name": "stdout",
          "text": [
            "Confusion Matrix:\n",
            "[[20  1]\n",
            " [ 1  1]]\n",
            "\n",
            "Classification Report:\n",
            "              precision    recall  f1-score   support\n",
            "\n",
            "           0       0.95      0.95      0.95        21\n",
            "           1       0.50      0.50      0.50         2\n",
            "\n",
            "    accuracy                           0.91        23\n",
            "   macro avg       0.73      0.73      0.73        23\n",
            "weighted avg       0.91      0.91      0.91        23\n",
            "\n"
          ]
        }
      ]
    },
    {
      "cell_type": "markdown",
      "source": [
        "Thats a lot of values... lets break this down. We focus on the confusion matrix, the first smaller table. But I want you to be aware of the classification report.\n",
        "\n",
        "**Confusion matrix**\n",
        "\n",
        "This shows how well a classification model is performing by comparing the actual labels with the predicted labels - we use this as a measure of accuracy.\n",
        "\n",
        "*   True Negatives (TN) (Top Left): Cases where the model correctly predicted the negative class (e.g., low ozone predicted as low ozone).\n",
        "\n",
        "*   False Positives (FP) (Top Right): Cases where the model incorrectly predicted the positive class (e.g., low ozone predicted as high ozone).\n",
        "\n",
        "*   False Negatives (FN) (Bottom Left): Cases where the model incorrectly predicted the negative class (e.g., high ozone predicted as low ozone).\n",
        "\n",
        "*   True Positives (TP) (Bottom Right): Cases where the model correctly predicted the positive class (e.g., high ozone predicted as high ozone).\n",
        "\n",
        "So what does this tell us about our model?\n",
        "\n",
        "**Classification report**\n",
        "\n",
        "There is a lot of information here, gives more detailed information than a confusion matrix. While the confusion matrix shows how many predictions were correct or incorrect, the classification report tells you how well the model performs for each class (like low ozone vs high ozone) by giving three key metrics:precision, recall, and f-score. If you want to explore this further see the [official guidance](https://scikit-learn.org/1.5/modules/generated/sklearn.metrics.classification_report.html), but I recommendment you [first read this gentler introduction](https://www.jcchouinard.com/classification-report-in-scikit-learn/).\n"
      ],
      "metadata": {
        "id": "Jr0StA2C5ldW"
      },
      "id": "Jr0StA2C5ldW"
    },
    {
      "cell_type": "code",
      "source": [
        "# What does the confusion matrix tell us about how the model is performing?\n",
        "# It is very good at predicting low ozone levels (class 0) with 21 correct predictions out of 21.\n",
        "# But, the model struggles with identifying high ozone levels (class 1), only catching 1 out of 2 cases. It also missed 1 high ozone case, which was incorrectly predicted as low.\n",
        "# The model is biased towards predicting the majority class (low ozone), this might be due to the dataset being imbalanced, but we don't cover that here."
      ],
      "metadata": {
        "id": "uaRSTrDS8X3w"
      },
      "id": "uaRSTrDS8X3w",
      "execution_count": null,
      "outputs": []
    },
    {
      "cell_type": "markdown",
      "source": [
        "## Support Vector Regression (SVR)\n",
        "\n",
        "Support Vector Regression (SVR) is used for continuous data regression tasks (you may have come across Support Vector Machines, or SVM, that are popular for binary classification tasks). SVR works by finding the best line (or curve) that fits the data points as closely as possible, while also minimizing error.\n",
        "\n",
        "We'll predict the continuous variable Ozone using the features Solar.R, Wind, and Temp from the `airquality` dataset.\n",
        "\n",
        "*Lets load in the `svm` function from the `sklearn` library, don't let this confuse you, it includes functionality for SVR.*"
      ],
      "metadata": {
        "id": "I5fmsIBRTdMK"
      },
      "id": "I5fmsIBRTdMK"
    },
    {
      "cell_type": "code",
      "source": [
        "from sklearn.svm import SVR"
      ],
      "metadata": {
        "id": "QXJdDyoAAivr"
      },
      "id": "QXJdDyoAAivr",
      "execution_count": 59,
      "outputs": []
    },
    {
      "cell_type": "markdown",
      "source": [
        "Now we define our X and y variables."
      ],
      "metadata": {
        "id": "4YcCcdGiEnWV"
      },
      "id": "4YcCcdGiEnWV"
    },
    {
      "cell_type": "code",
      "source": [
        "X = airquality[['Solar.R', 'Wind', 'Temp']].values  # Features\n",
        "y = airquality['Ozone'].values  # Target variable: Ozone levels"
      ],
      "metadata": {
        "id": "Nl5byWyPFKex"
      },
      "id": "Nl5byWyPFKex",
      "execution_count": 60,
      "outputs": []
    },
    {
      "cell_type": "markdown",
      "source": [
        "We are now ready to set up the model. For the purposes of this example, we'll choose an `RBF` (best fit) kernel (others are available, and can be tested), set an error penalty term (`C`) which penalises poor model performance, and a `gamma` value to control the extent to which the line can adapt to the points. These are the standard values and are a good starting point. Don't overthink this just now- the parameters are things we can come back to later once we've got the hang of it."
      ],
      "metadata": {
        "id": "EvMmbOCaCo4m"
      },
      "id": "EvMmbOCaCo4m"
    },
    {
      "cell_type": "code",
      "source": [
        "svr = SVR(kernel='rbf', C=100, gamma=100) # Sets kernel parameters, using rbf (best fit) kernel"
      ],
      "metadata": {
        "id": "A2WHnqHkFeZC"
      },
      "id": "A2WHnqHkFeZC",
      "execution_count": 61,
      "outputs": []
    },
    {
      "cell_type": "code",
      "source": [
        "fitsvr = svr.fit(X,y) # Fit the model"
      ],
      "metadata": {
        "id": "beA2S3jYFigt"
      },
      "id": "beA2S3jYFigt",
      "execution_count": 62,
      "outputs": []
    },
    {
      "cell_type": "markdown",
      "source": [
        "We have to manually call for our results with this easy bit of code:"
      ],
      "metadata": {
        "id": "FrzRyaW0FnNc"
      },
      "id": "FrzRyaW0FnNc"
    },
    {
      "cell_type": "code",
      "source": [
        "fitsvr.intercept_ # Extract the intercept"
      ],
      "metadata": {
        "colab": {
          "base_uri": "https://localhost:8080/"
        },
        "id": "dwrd7eqkFvGC",
        "outputId": "dac54279-5611-496e-f01b-5b936fe4d76d"
      },
      "id": "dwrd7eqkFvGC",
      "execution_count": 63,
      "outputs": [
        {
          "output_type": "execute_result",
          "data": {
            "text/plain": [
              "array([41.88909091])"
            ]
          },
          "metadata": {},
          "execution_count": 63
        }
      ]
    },
    {
      "cell_type": "code",
      "source": [
        "fitsvr.score(X,y) # This calculates the R2 score"
      ],
      "metadata": {
        "colab": {
          "base_uri": "https://localhost:8080/"
        },
        "id": "I4USBQHXFxC8",
        "outputId": "7d578fbd-5437-4d3e-d61d-213ef569086e"
      },
      "id": "I4USBQHXFxC8",
      "execution_count": 64,
      "outputs": [
        {
          "output_type": "execute_result",
          "data": {
            "text/plain": [
              "0.9943935180724874"
            ]
          },
          "metadata": {},
          "execution_count": 64
        }
      ]
    },
    {
      "cell_type": "markdown",
      "source": [
        "By using the same libary (`scikit-learn`) for linear regression, we can compare the predictions on a plot (remember we used `statsmodels` earlier. For more information on applying this method to regression see the `scikit-learn` guidance [here](https://scikit-learn.org/stable/modules/generated/sklearn.linear_model.LinearRegression.html), feel free to play around with these functions once you've completed the lab. The scikit-learn method can also be extended as we did before to include more predictors."
      ],
      "metadata": {
        "id": "iADk_pPXF67J"
      },
      "id": "iADk_pPXF67J"
    },
    {
      "cell_type": "code",
      "source": [
        "from sklearn.linear_model import LinearRegression"
      ],
      "metadata": {
        "id": "Qy1oyAkcGAsM"
      },
      "id": "Qy1oyAkcGAsM",
      "execution_count": 65,
      "outputs": []
    },
    {
      "cell_type": "markdown",
      "source": [
        "As with SVM, we start by setting up the model:"
      ],
      "metadata": {
        "id": "5oTo5DD-GEhV"
      },
      "id": "5oTo5DD-GEhV"
    },
    {
      "cell_type": "code",
      "source": [
        "lr = LinearRegression()"
      ],
      "metadata": {
        "id": "AYH4KwzsGCYN"
      },
      "id": "AYH4KwzsGCYN",
      "execution_count": 66,
      "outputs": []
    },
    {
      "cell_type": "markdown",
      "source": [
        "Fit the model:"
      ],
      "metadata": {
        "id": "09QjVeFTGlPS"
      },
      "id": "09QjVeFTGlPS"
    },
    {
      "cell_type": "code",
      "source": [
        "fitlr = lr.fit(X,y)"
      ],
      "metadata": {
        "id": "2l_e9ukyGmpj"
      },
      "id": "2l_e9ukyGmpj",
      "execution_count": 67,
      "outputs": []
    },
    {
      "cell_type": "markdown",
      "source": [
        "And extract our parameters:"
      ],
      "metadata": {
        "id": "CHL96-Y8Grgr"
      },
      "id": "CHL96-Y8Grgr"
    },
    {
      "cell_type": "code",
      "source": [
        "fitlr.coef_ #extract coefficient, should be the same as the one from statsmodels!"
      ],
      "metadata": {
        "colab": {
          "base_uri": "https://localhost:8080/"
        },
        "id": "0nNXWu-7Gvb9",
        "outputId": "69d7ddb0-4b28-4e50-ce77-34fa76e94a7f"
      },
      "id": "0nNXWu-7Gvb9",
      "execution_count": 68,
      "outputs": [
        {
          "output_type": "execute_result",
          "data": {
            "text/plain": [
              "array([ 0.05982059, -3.33359131,  1.65209291])"
            ]
          },
          "metadata": {},
          "execution_count": 68
        }
      ]
    },
    {
      "cell_type": "code",
      "source": [
        "fitlr.intercept_ # Extract intercept for linear regression"
      ],
      "metadata": {
        "colab": {
          "base_uri": "https://localhost:8080/"
        },
        "id": "7TirK_0aHEnn",
        "outputId": "c8c1c0b5-850e-4339-959a-633dde43a4fb"
      },
      "id": "7TirK_0aHEnn",
      "execution_count": 69,
      "outputs": [
        {
          "output_type": "execute_result",
          "data": {
            "text/plain": [
              "-64.3420789285918"
            ]
          },
          "metadata": {},
          "execution_count": 69
        }
      ]
    },
    {
      "cell_type": "code",
      "source": [
        "fitlr.score(X,y)"
      ],
      "metadata": {
        "colab": {
          "base_uri": "https://localhost:8080/"
        },
        "id": "_oPj-NWvHGG0",
        "outputId": "991de91e-798a-4238-9617-9ed253568ec3"
      },
      "id": "_oPj-NWvHGG0",
      "execution_count": 70,
      "outputs": [
        {
          "output_type": "execute_result",
          "data": {
            "text/plain": [
              "0.6058946000066223"
            ]
          },
          "metadata": {},
          "execution_count": 70
        }
      ]
    },
    {
      "cell_type": "markdown",
      "source": [
        "Now we compare the SVR and OLS regression by comparing the residuals plots. Remember that residual plots show how well the model's predictions are matching the actual values.\n",
        "\n",
        "In a well-performing model, the residuals (difference between actual and predicted values) should be randomly distributed around zero.\n",
        "\n"
      ],
      "metadata": {
        "id": "pUWZIl79HBSO"
      },
      "id": "pUWZIl79HBSO"
    },
    {
      "cell_type": "code",
      "source": [
        "#Interpret the combined residuals plot for SVR and LR (regression) above.\n",
        "#SVR appears to perform better since its residuals are more tightly clustered around zero, meaning it has fewer large errors compared to Linear Regression.\n",
        "#Ideally, residuals should be randomly scattered around zero without showing any clear pattern.\n",
        "#This suggests that SVR may be better suited for handling non-linear relationships and outliers in the data."
      ],
      "metadata": {
        "id": "mMIjCeXySZng"
      },
      "id": "mMIjCeXySZng",
      "execution_count": null,
      "outputs": []
    },
    {
      "cell_type": "code",
      "source": [
        "# Residuals for SVR\n",
        "residuals_svr = y - fitsvr.predict(X)\n",
        "\n",
        "# Residuals for Linear Regression\n",
        "residuals_lr = y - fitlr.predict(X)\n",
        "\n",
        "# Plot residuals\n",
        "plt.figure(figsize=(10, 6))\n",
        "plt.scatter(fitsvr.predict(X), residuals_svr, alpha=0.6, color='darkcyan', label='SVR Residuals')\n",
        "plt.scatter(fitlr.predict(X), residuals_lr, alpha=0.6, color='coral', label='LR Residuals')\n",
        "plt.axhline(0, color='red', linestyle='--')\n",
        "plt.xlabel('Predicted Ozone Levels')\n",
        "plt.ylabel('Residuals')\n",
        "plt.legend()\n",
        "plt.title('Residual Plot: SVR vs Linear Regression')\n",
        "plt.show()"
      ],
      "metadata": {
        "id": "k_-EUtsQRC5J",
        "colab": {
          "base_uri": "https://localhost:8080/",
          "height": 564
        },
        "outputId": "f2d6cee5-4c58-477b-c2a8-533180cd5ccd"
      },
      "id": "k_-EUtsQRC5J",
      "execution_count": 71,
      "outputs": [
        {
          "output_type": "display_data",
          "data": {
            "text/plain": [
              "<Figure size 1000x600 with 1 Axes>"
            ],
            "image/png": "[encoded data removed]"
          },
          "metadata": {}
        }
      ]
    },
    {
      "cell_type": "markdown",
      "source": [
        "Based on the residual plot for both SVR and Linear Regression, what can you infer about the performance of each model? Which model appears to be more suitable for predicting ozone levels, and why?"
      ],
      "metadata": {
        "id": "MJeTaABdSEYW"
      },
      "id": "MJeTaABdSEYW"
    },
    {
      "cell_type": "markdown",
      "source": [
        "In this practical, you've explored regression analysis using real-world environmental data. You've learned how to check model assumptions and refine your approach based on statistical tests. Keep practicing these skills, and consider exploring more advanced modeling techniques as you progress."
      ],
      "metadata": {
        "id": "eZiS1KPcYgYA"
      },
      "id": "eZiS1KPcYgYA"
    },
    {
      "cell_type": "markdown",
      "source": [
        "## Homework tasks (formative)\n",
        "\n",
        "Submit your answers on Minerva. You'll receive feedback on how you are doing, which you can use to identify areas you need to focus personal study time on.\n",
        "\n",
        "1. On Minerva (as part of the homework questions) you will find three residual plots, each demonstrating varying levels of heteroscedasticity. Examine each plot carefully and determine which one, if any, shows signs of heteroscedasticity.\n",
        "\n",
        "2. Modify the OLS regression model so that it only includes two predictors: Wind and Temp. What is the updated R² value of the model? What does tell you about the variable that was removed (`Solar.R`)?\n",
        "\n",
        "3. Modify the logistic regression by adjusting the threshold for high ozone levels from 100 to 90 in the binary classification section. What are the updated confusion matrix values?"
      ],
      "metadata": {
        "id": "773OOctLcDK8"
      },
      "id": "773OOctLcDK8"
    },
    {
      "cell_type": "markdown",
      "source": [
        "# Question 2"
      ],
      "metadata": {
        "id": "2ftV72LCGLRn"
      },
      "id": "2ftV72LCGLRn"
    },
    {
      "cell_type": "code",
      "source": [
        "# Multiple regression to predict Ozone levels\n",
        "X_reg = airquality[['Wind', 'Temp']] #independent variables\n",
        "y_reg = airquality['Ozone'] #dependent variable\n",
        "\n",
        "X_reg = sm.add_constant(X_reg)  # Add a constant for intercept\n",
        "mult_reg_model = sm.OLS(y_reg, X_reg).fit()\n",
        "\n",
        "# Print model summary\n",
        "print(mult_reg_model.summary())"
      ],
      "metadata": {
        "colab": {
          "base_uri": "https://localhost:8080/"
        },
        "id": "nwPR_xMcGNq7",
        "outputId": "1cfc7c99-8758-4329-a097-7b53a60de12e"
      },
      "id": "nwPR_xMcGNq7",
      "execution_count": 72,
      "outputs": [
        {
          "output_type": "stream",
          "name": "stdout",
          "text": [
            "                            OLS Regression Results                            \n",
            "==============================================================================\n",
            "Dep. Variable:                  Ozone   R-squared:                       0.581\n",
            "Model:                            OLS   Adj. R-squared:                  0.574\n",
            "Method:                 Least Squares   F-statistic:                     74.99\n",
            "Date:                Thu, 24 Oct 2024   Prob (F-statistic):           3.79e-21\n",
            "Time:                        10:36:40   Log-Likelihood:                -497.71\n",
            "No. Observations:                 111   AIC:                             1001.\n",
            "Df Residuals:                     108   BIC:                             1010.\n",
            "Df Model:                           2                                         \n",
            "Covariance Type:            nonrobust                                         \n",
            "==============================================================================\n",
            "                 coef    std err          t      P>|t|      [0.025      0.975]\n",
            "------------------------------------------------------------------------------\n",
            "const        -67.3220     23.621     -2.850      0.005    -114.143     -20.501\n",
            "Wind          -3.2948      0.671     -4.909      0.000      -4.625      -1.965\n",
            "Temp           1.8276      0.251      7.294      0.000       1.331       2.324\n",
            "==============================================================================\n",
            "Omnibus:                       36.789   Durbin-Watson:                   1.921\n",
            "Prob(Omnibus):                  0.000   Jarque-Bera (JB):               84.460\n",
            "Skew:                           1.281   Prob(JB):                     4.57e-19\n",
            "Kurtosis:                       6.420   Cond. No.                         905.\n",
            "==============================================================================\n",
            "\n",
            "Notes:\n",
            "[1] Standard Errors assume that the covariance matrix of the errors is correctly specified.\n"
          ]
        }
      ]
    },
    {
      "cell_type": "markdown",
      "source": [
        "The R-squared value has decreased from 0.606 to 0.581, which tells us that the Solar.R variable was increasing the R-squared value, so this variable is more strongly correlated to Ozone than the other variables."
      ],
      "metadata": {
        "id": "-hE2emFDGgIs"
      },
      "id": "-hE2emFDGgIs"
    },
    {
      "cell_type": "markdown",
      "source": [
        "# Question 3"
      ],
      "metadata": {
        "id": "YbTpzynHG3f8"
      },
      "id": "YbTpzynHG3f8"
    },
    {
      "cell_type": "code",
      "source": [
        "airquality['Ozone_Level'] = np.where(airquality['Ozone'] > 90, 1, 0)  # Binary variable: 1 = High Pollution, 0 = Low Pollution\n",
        "\n",
        "X = airquality[['Solar.R', 'Wind', 'Temp']]  # Independent variables\n",
        "y = airquality['Ozone_Level']  # Dependent variable (binary target)\n",
        "X_train, X_test, y_train, y_test = train_test_split(X, y, test_size=0.2, random_state=42)\n",
        "\n",
        "# Initialize the logistic regression model\n",
        "log_reg = LogisticRegression()\n",
        "\n",
        "# Fit the model with the training data\n",
        "log_reg.fit(X, y)\n",
        "\n",
        "# Make predictions on the test data\n",
        "y_pred_log_reg = log_reg.predict(X_test)\n",
        "\n",
        "# Lets evaluate the model\n",
        "print(\"Confusion Matrix:\")\n",
        "print(confusion_matrix(y_test, y_pred_log_reg))\n",
        "print(\"\\nClassification Report:\")\n",
        "print(classification_report(y_test, y_pred_log_reg))"
      ],
      "metadata": {
        "colab": {
          "base_uri": "https://localhost:8080/"
        },
        "id": "gH0vyPU3G3AN",
        "outputId": "0b4abfdc-d607-45ee-c4ea-277431166798"
      },
      "id": "gH0vyPU3G3AN",
      "execution_count": 77,
      "outputs": [
        {
          "output_type": "stream",
          "name": "stdout",
          "text": [
            "Confusion Matrix:\n",
            "[[19  2]\n",
            " [ 1  1]]\n",
            "\n",
            "Classification Report:\n",
            "              precision    recall  f1-score   support\n",
            "\n",
            "           0       0.95      0.90      0.93        21\n",
            "           1       0.33      0.50      0.40         2\n",
            "\n",
            "    accuracy                           0.87        23\n",
            "   macro avg       0.64      0.70      0.66        23\n",
            "weighted avg       0.90      0.87      0.88        23\n",
            "\n"
          ]
        }
      ]
    },
    {
      "cell_type": "markdown",
      "source": [
        "##Why do we have references here?!\n",
        "\n",
        "*As data scientistics, you need to get an understanding of the domain you conducting your analysis in... it might be agricultural, air quality in buildings, biodiversity in surburban gardens, etc. Data science is a tool, and only becomes a powerful and appropiate tool when we have the domain knowledge to make informed decisions, develop hypotheses, and recommendations that are tied to the local context*.\n",
        "\n",
        "*These papers are entirly optional to read, but are here to get you in the habit of being around literature. They are all good reads, so for those interested, please do go ahead and look at a few. It's all part of you personalising your learning and taking charge.*\n",
        "\n",
        "## <a name=\"references\"></a>References#\n",
        "\n",
        "Ekwurzel, B., Boneham, J., Dalton, M.W., Heede, R., Mera, R.J., Allen, M.R. and Frumhoff, P.C., 2017. The rise in global atmospheric CO2, surface temperature, and sea level from emissions traced to major carbon producers. Climatic Change, 144(4), pp.579-590. DOI: [https://doi.org/10.1007/s10584-017-1978-0](https://doi.org/10.1007/s10584-017-1978-0)\n",
        "\n",
        "Solomon, S., Plattner, G.K., Knutti, R. and Friedlingstein, P., 2009. Irreversible climate change due to carbon dioxide emissions. Proceedings of the national academy of sciences, 106(6), pp.1704-1709. DOI: [https://doi.org/10.1073/pnas.0812721106](https://doi.org/10.1073/pnas.0812721106)\n",
        "\n",
        "Ran, J., Chao, N., Yue, L., Chen, G., Wang, Z., Wu, T. and Li, C., 2023. Quantifying the contribution of temperature, salinity, and climate change to sea level rise in the Pacific Ocean: 2005-2019. Frontiers in Marine Science, 10, p.1200883. DOI: [https://doi.org/10.3389/fmars.2023.1200883](https://doi.org/10.3389/fmars.2023.1200883)\n"
      ],
      "metadata": {
        "id": "vgz46sNVP__l"
      },
      "id": "vgz46sNVP__l"
    }
  ],
  "metadata": {
    "kernelspec": {
      "display_name": "Python 3 (ipykernel)",
      "language": "python",
      "name": "python3"
    },
    "language_info": {
      "codemirror_mode": {
        "name": "ipython",
        "version": 3
      },
      "file_extension": ".py",
      "mimetype": "text/x-python",
      "name": "python",
      "nbconvert_exporter": "python",
      "pygments_lexer": "ipython3",
      "version": "3.9.12"
    },
    "colab": {
      "provenance": [],
      "collapsed_sections": [
        "2Q0voUGix117"
      ],
      "include_colab_link": true
    }
  },
  "nbformat": 4,
  "nbformat_minor": 5
}